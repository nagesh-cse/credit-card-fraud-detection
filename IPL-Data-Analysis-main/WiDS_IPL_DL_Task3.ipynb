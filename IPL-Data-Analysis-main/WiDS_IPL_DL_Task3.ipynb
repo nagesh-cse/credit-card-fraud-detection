{
  "nbformat": 4,
  "nbformat_minor": 0,
  "metadata": {
    "colab": {
      "name": "WiDS_IPL_DL_Task3.ipynb",
      "provenance": [],
      "collapsed_sections": [
        "fcThC31HLm6O",
        "1WcKsyRULgKJ",
        "kmg45ibYnz2p",
        "apAr5K2Tn46z",
        "tgWSAiEOn9ps",
        "C6cYBFQwoYr2",
        "ZP0Pzob3oP8s",
        "aD8vzUcwodIu",
        "t2EEEG7H4hke",
        "5Qs4NF70gjcl",
        "UmctS171hZPz",
        "BwJ4idCqheTn",
        "9ndXDgi5hpSD",
        "MIDmPxELiFsn",
        "0ge-tUY-S41L"
      ],
      "toc_visible": true,
      "include_colab_link": true
    },
    "kernelspec": {
      "name": "python3",
      "display_name": "Python 3"
    },
    "language_info": {
      "name": "python"
    },
    "accelerator": "GPU"
  },
  "cells": [
    {
      "cell_type": "markdown",
      "metadata": {
        "id": "view-in-github",
        "colab_type": "text"
      },
      "source": [
        "<a href=\"https://colab.research.google.com/github/SahilKhan101/IPL-Data-Analysis/blob/main/WiDS_IPL_DL_Task3.ipynb\" target=\"_parent\"><img src=\"https://colab.research.google.com/assets/colab-badge.svg\" alt=\"Open In Colab\"/></a>"
      ]
    },
    {
      "cell_type": "markdown",
      "source": [
        "# Import Necessary Libraries & Modules"
      ],
      "metadata": {
        "id": "fcThC31HLm6O"
      }
    },
    {
      "cell_type": "code",
      "execution_count": null,
      "metadata": {
        "id": "zkqpbQZwCV3m"
      },
      "outputs": [],
      "source": [
        "import numpy as np\n",
        "import pandas as pd\n",
        "import seaborn as sns\n",
        "import matplotlib.pyplot as plt\n",
        "%matplotlib inline\n",
        "import math,os\n",
        "from numpy.random import choice\n",
        "from IPython.display import display\n",
        "\n",
        "import warnings\n",
        "warnings.filterwarnings('ignore')\n",
        "\n",
        "pd.options.display.max_columns = None"
      ]
    },
    {
      "cell_type": "code",
      "source": [
        "from sklearn.linear_model import LinearRegression,Ridge,SGDRegressor,ElasticNet\n",
        "from sklearn import linear_model\n",
        "from sklearn import preprocessing\n",
        "from sklearn.preprocessing import StandardScaler, MinMaxScaler\n",
        "from sklearn.model_selection import train_test_split\n",
        "from sklearn.utils import shuffle\n",
        "from sklearn.utils.validation import check_array \n",
        "from sklearn.metrics import r2_score, mean_squared_error, mean_absolute_error, confusion_matrix, classification_report\n",
        "from sklearn.svm import LinearSVR, SVC, SVR\n",
        "from sklearn.tree import DecisionTreeRegressor, DecisionTreeClassifier\n",
        "from sklearn.ensemble import RandomForestRegressor,RandomForestClassifier,ExtraTreesRegressor,GradientBoostingRegressor,AdaBoostRegressor,BaggingRegressor"
      ],
      "metadata": {
        "id": "WPB_e4pXCu8q"
      },
      "execution_count": null,
      "outputs": []
    },
    {
      "cell_type": "code",
      "source": [
        "import torch\n",
        "import torch\n",
        "import torch.nn as nn\n",
        "import numpy as np\n",
        "from torchvision import datasets\n",
        "from torchvision import transforms\n",
        "from torch.utils.data.sampler import SubsetRandomSampler\n",
        "from torch.utils.data import Dataset, DataLoader, random_split, TensorDataset\n",
        "import torch.nn.functional as F"
      ],
      "metadata": {
        "id": "v-jf0YGdCwTi"
      },
      "execution_count": null,
      "outputs": []
    },
    {
      "cell_type": "code",
      "source": [
        "from google.colab import drive\n",
        "drive.mount('/content/drive')"
      ],
      "metadata": {
        "id": "ZLPrQRsgh5lr",
        "colab": {
          "base_uri": "https://localhost:8080/"
        },
        "outputId": "5892a4a6-cb5d-4912-8761-49773870b5cf"
      },
      "execution_count": null,
      "outputs": [
        {
          "output_type": "stream",
          "name": "stdout",
          "text": [
            "Mounted at /content/drive\n"
          ]
        }
      ]
    },
    {
      "cell_type": "markdown",
      "source": [
        "# **Regression Task using PyTorch**"
      ],
      "metadata": {
        "id": "1WcKsyRULgKJ"
      }
    },
    {
      "cell_type": "code",
      "source": [
        "!cp /content/drive/MyDrive/WiDS_IPL/ipl_data.csv ."
      ],
      "metadata": {
        "id": "jNF1etQTESbO"
      },
      "execution_count": null,
      "outputs": []
    },
    {
      "cell_type": "code",
      "source": [
        "# importing the data cleaned during ML Task.\n",
        "ipl_data = pd.read_csv('ipl_data.csv')\n",
        "useful_cols = ['over','batsman_runs','total_runs_y','cumsum_runs','cumsum_wickets','total_runs_x']\n",
        "ipl_data = ipl_data[useful_cols]"
      ],
      "metadata": {
        "id": "lYZibDsnC4x1"
      },
      "execution_count": null,
      "outputs": []
    },
    {
      "cell_type": "code",
      "source": [
        "df_train = ipl_data.loc[ipl_data['over']<=18.3]\n",
        "df_test = ipl_data.loc[ipl_data['over']>18.3]\n",
        "\n",
        "x = df_train.values #returns a numpy array\n",
        "min_max_scaler = preprocessing.MinMaxScaler()\n",
        "x_fit = min_max_scaler.fit(x)\n",
        "print(min_max_scaler.data_max_)\n",
        "x_scaled = min_max_scaler.fit_transform(x)\n",
        "df_train = pd.DataFrame(x_scaled, columns=['1st', '2nd', '3rd', '4th', '5th', 'label'])\n",
        "# df_train.rename(columns = {'5':'label'}, inplace = True)\n",
        "display(df_train.head())\n",
        "\n",
        "x = df_test.values #returns a numpy array\n",
        "min_max_scaler = preprocessing.MinMaxScaler()\n",
        "x_scaled = min_max_scaler.fit_transform(x)\n",
        "df_test = pd.DataFrame(x_scaled, columns=['1st', '2nd', '3rd', '4th', '5th', 'label'])\n",
        "# df_test.rename(columns = {'5':'label'}, inplace = True)\n",
        "display(df_test.head())\n",
        "\n",
        "print('Size of training data :', df_train.shape[0])\n",
        "print('Size of test data :', df_test.shape[0])"
      ],
      "metadata": {
        "colab": {
          "base_uri": "https://localhost:8080/",
          "height": 447
        },
        "id": "uXeiWS2QC8UM",
        "outputId": "5bc104dc-b052-42e4-9aa0-644594fabce6"
      },
      "execution_count": null,
      "outputs": [
        {
          "output_type": "stream",
          "name": "stdout",
          "text": [
            "[ 18.3   6.    7.  245.   10.  263. ]\n"
          ]
        },
        {
          "output_type": "display_data",
          "data": {
            "text/html": [
              "\n",
              "  <div id=\"df-258d748c-725a-4463-9bcf-56be9c5a6b20\">\n",
              "    <div class=\"colab-df-container\">\n",
              "      <div>\n",
              "<style scoped>\n",
              "    .dataframe tbody tr th:only-of-type {\n",
              "        vertical-align: middle;\n",
              "    }\n",
              "\n",
              "    .dataframe tbody tr th {\n",
              "        vertical-align: top;\n",
              "    }\n",
              "\n",
              "    .dataframe thead th {\n",
              "        text-align: right;\n",
              "    }\n",
              "</style>\n",
              "<table border=\"1\" class=\"dataframe\">\n",
              "  <thead>\n",
              "    <tr style=\"text-align: right;\">\n",
              "      <th></th>\n",
              "      <th>1st</th>\n",
              "      <th>2nd</th>\n",
              "      <th>3rd</th>\n",
              "      <th>4th</th>\n",
              "      <th>5th</th>\n",
              "      <th>label</th>\n",
              "    </tr>\n",
              "  </thead>\n",
              "  <tbody>\n",
              "    <tr>\n",
              "      <th>0</th>\n",
              "      <td>0.000000</td>\n",
              "      <td>0.0</td>\n",
              "      <td>0.142857</td>\n",
              "      <td>0.004082</td>\n",
              "      <td>0.0</td>\n",
              "      <td>0.812785</td>\n",
              "    </tr>\n",
              "    <tr>\n",
              "      <th>1</th>\n",
              "      <td>0.005495</td>\n",
              "      <td>0.0</td>\n",
              "      <td>0.000000</td>\n",
              "      <td>0.004082</td>\n",
              "      <td>0.0</td>\n",
              "      <td>0.812785</td>\n",
              "    </tr>\n",
              "    <tr>\n",
              "      <th>2</th>\n",
              "      <td>0.010989</td>\n",
              "      <td>0.0</td>\n",
              "      <td>0.142857</td>\n",
              "      <td>0.008163</td>\n",
              "      <td>0.0</td>\n",
              "      <td>0.812785</td>\n",
              "    </tr>\n",
              "    <tr>\n",
              "      <th>3</th>\n",
              "      <td>0.016484</td>\n",
              "      <td>0.0</td>\n",
              "      <td>0.000000</td>\n",
              "      <td>0.008163</td>\n",
              "      <td>0.0</td>\n",
              "      <td>0.812785</td>\n",
              "    </tr>\n",
              "    <tr>\n",
              "      <th>4</th>\n",
              "      <td>0.021978</td>\n",
              "      <td>0.0</td>\n",
              "      <td>0.000000</td>\n",
              "      <td>0.008163</td>\n",
              "      <td>0.0</td>\n",
              "      <td>0.812785</td>\n",
              "    </tr>\n",
              "  </tbody>\n",
              "</table>\n",
              "</div>\n",
              "      <button class=\"colab-df-convert\" onclick=\"convertToInteractive('df-258d748c-725a-4463-9bcf-56be9c5a6b20')\"\n",
              "              title=\"Convert this dataframe to an interactive table.\"\n",
              "              style=\"display:none;\">\n",
              "        \n",
              "  <svg xmlns=\"http://www.w3.org/2000/svg\" height=\"24px\"viewBox=\"0 0 24 24\"\n",
              "       width=\"24px\">\n",
              "    <path d=\"M0 0h24v24H0V0z\" fill=\"none\"/>\n",
              "    <path d=\"M18.56 5.44l.94 2.06.94-2.06 2.06-.94-2.06-.94-.94-2.06-.94 2.06-2.06.94zm-11 1L8.5 8.5l.94-2.06 2.06-.94-2.06-.94L8.5 2.5l-.94 2.06-2.06.94zm10 10l.94 2.06.94-2.06 2.06-.94-2.06-.94-.94-2.06-.94 2.06-2.06.94z\"/><path d=\"M17.41 7.96l-1.37-1.37c-.4-.4-.92-.59-1.43-.59-.52 0-1.04.2-1.43.59L10.3 9.45l-7.72 7.72c-.78.78-.78 2.05 0 2.83L4 21.41c.39.39.9.59 1.41.59.51 0 1.02-.2 1.41-.59l7.78-7.78 2.81-2.81c.8-.78.8-2.07 0-2.86zM5.41 20L4 18.59l7.72-7.72 1.47 1.35L5.41 20z\"/>\n",
              "  </svg>\n",
              "      </button>\n",
              "      \n",
              "  <style>\n",
              "    .colab-df-container {\n",
              "      display:flex;\n",
              "      flex-wrap:wrap;\n",
              "      gap: 12px;\n",
              "    }\n",
              "\n",
              "    .colab-df-convert {\n",
              "      background-color: #E8F0FE;\n",
              "      border: none;\n",
              "      border-radius: 50%;\n",
              "      cursor: pointer;\n",
              "      display: none;\n",
              "      fill: #1967D2;\n",
              "      height: 32px;\n",
              "      padding: 0 0 0 0;\n",
              "      width: 32px;\n",
              "    }\n",
              "\n",
              "    .colab-df-convert:hover {\n",
              "      background-color: #E2EBFA;\n",
              "      box-shadow: 0px 1px 2px rgba(60, 64, 67, 0.3), 0px 1px 3px 1px rgba(60, 64, 67, 0.15);\n",
              "      fill: #174EA6;\n",
              "    }\n",
              "\n",
              "    [theme=dark] .colab-df-convert {\n",
              "      background-color: #3B4455;\n",
              "      fill: #D2E3FC;\n",
              "    }\n",
              "\n",
              "    [theme=dark] .colab-df-convert:hover {\n",
              "      background-color: #434B5C;\n",
              "      box-shadow: 0px 1px 3px 1px rgba(0, 0, 0, 0.15);\n",
              "      filter: drop-shadow(0px 1px 2px rgba(0, 0, 0, 0.3));\n",
              "      fill: #FFFFFF;\n",
              "    }\n",
              "  </style>\n",
              "\n",
              "      <script>\n",
              "        const buttonEl =\n",
              "          document.querySelector('#df-258d748c-725a-4463-9bcf-56be9c5a6b20 button.colab-df-convert');\n",
              "        buttonEl.style.display =\n",
              "          google.colab.kernel.accessAllowed ? 'block' : 'none';\n",
              "\n",
              "        async function convertToInteractive(key) {\n",
              "          const element = document.querySelector('#df-258d748c-725a-4463-9bcf-56be9c5a6b20');\n",
              "          const dataTable =\n",
              "            await google.colab.kernel.invokeFunction('convertToInteractive',\n",
              "                                                     [key], {});\n",
              "          if (!dataTable) return;\n",
              "\n",
              "          const docLinkHtml = 'Like what you see? Visit the ' +\n",
              "            '<a target=\"_blank\" href=https://colab.research.google.com/notebooks/data_table.ipynb>data table notebook</a>'\n",
              "            + ' to learn more about interactive tables.';\n",
              "          element.innerHTML = '';\n",
              "          dataTable['output_type'] = 'display_data';\n",
              "          await google.colab.output.renderOutput(dataTable, element);\n",
              "          const docLink = document.createElement('div');\n",
              "          docLink.innerHTML = docLinkHtml;\n",
              "          element.appendChild(docLink);\n",
              "        }\n",
              "      </script>\n",
              "    </div>\n",
              "  </div>\n",
              "  "
            ],
            "text/plain": [
              "        1st  2nd       3rd       4th  5th     label\n",
              "0  0.000000  0.0  0.142857  0.004082  0.0  0.812785\n",
              "1  0.005495  0.0  0.000000  0.004082  0.0  0.812785\n",
              "2  0.010989  0.0  0.142857  0.008163  0.0  0.812785\n",
              "3  0.016484  0.0  0.000000  0.008163  0.0  0.812785\n",
              "4  0.021978  0.0  0.000000  0.008163  0.0  0.812785"
            ]
          },
          "metadata": {}
        },
        {
          "output_type": "display_data",
          "data": {
            "text/html": [
              "\n",
              "  <div id=\"df-838b325a-3a5a-465e-b257-288743428e8e\">\n",
              "    <div class=\"colab-df-container\">\n",
              "      <div>\n",
              "<style scoped>\n",
              "    .dataframe tbody tr th:only-of-type {\n",
              "        vertical-align: middle;\n",
              "    }\n",
              "\n",
              "    .dataframe tbody tr th {\n",
              "        vertical-align: top;\n",
              "    }\n",
              "\n",
              "    .dataframe thead th {\n",
              "        text-align: right;\n",
              "    }\n",
              "</style>\n",
              "<table border=\"1\" class=\"dataframe\">\n",
              "  <thead>\n",
              "    <tr style=\"text-align: right;\">\n",
              "      <th></th>\n",
              "      <th>1st</th>\n",
              "      <th>2nd</th>\n",
              "      <th>3rd</th>\n",
              "      <th>4th</th>\n",
              "      <th>5th</th>\n",
              "      <th>label</th>\n",
              "    </tr>\n",
              "  </thead>\n",
              "  <tbody>\n",
              "    <tr>\n",
              "      <th>0</th>\n",
              "      <td>0.000000</td>\n",
              "      <td>0.666667</td>\n",
              "      <td>0.571429</td>\n",
              "      <td>0.643979</td>\n",
              "      <td>0.222222</td>\n",
              "      <td>0.775956</td>\n",
              "    </tr>\n",
              "    <tr>\n",
              "      <th>1</th>\n",
              "      <td>0.066667</td>\n",
              "      <td>0.166667</td>\n",
              "      <td>0.142857</td>\n",
              "      <td>0.649215</td>\n",
              "      <td>0.222222</td>\n",
              "      <td>0.775956</td>\n",
              "    </tr>\n",
              "    <tr>\n",
              "      <th>2</th>\n",
              "      <td>0.133333</td>\n",
              "      <td>0.666667</td>\n",
              "      <td>0.571429</td>\n",
              "      <td>0.670157</td>\n",
              "      <td>0.222222</td>\n",
              "      <td>0.775956</td>\n",
              "    </tr>\n",
              "    <tr>\n",
              "      <th>3</th>\n",
              "      <td>0.466667</td>\n",
              "      <td>1.000000</td>\n",
              "      <td>0.857143</td>\n",
              "      <td>0.701571</td>\n",
              "      <td>0.222222</td>\n",
              "      <td>0.775956</td>\n",
              "    </tr>\n",
              "    <tr>\n",
              "      <th>4</th>\n",
              "      <td>0.533333</td>\n",
              "      <td>1.000000</td>\n",
              "      <td>0.857143</td>\n",
              "      <td>0.732984</td>\n",
              "      <td>0.222222</td>\n",
              "      <td>0.775956</td>\n",
              "    </tr>\n",
              "  </tbody>\n",
              "</table>\n",
              "</div>\n",
              "      <button class=\"colab-df-convert\" onclick=\"convertToInteractive('df-838b325a-3a5a-465e-b257-288743428e8e')\"\n",
              "              title=\"Convert this dataframe to an interactive table.\"\n",
              "              style=\"display:none;\">\n",
              "        \n",
              "  <svg xmlns=\"http://www.w3.org/2000/svg\" height=\"24px\"viewBox=\"0 0 24 24\"\n",
              "       width=\"24px\">\n",
              "    <path d=\"M0 0h24v24H0V0z\" fill=\"none\"/>\n",
              "    <path d=\"M18.56 5.44l.94 2.06.94-2.06 2.06-.94-2.06-.94-.94-2.06-.94 2.06-2.06.94zm-11 1L8.5 8.5l.94-2.06 2.06-.94-2.06-.94L8.5 2.5l-.94 2.06-2.06.94zm10 10l.94 2.06.94-2.06 2.06-.94-2.06-.94-.94-2.06-.94 2.06-2.06.94z\"/><path d=\"M17.41 7.96l-1.37-1.37c-.4-.4-.92-.59-1.43-.59-.52 0-1.04.2-1.43.59L10.3 9.45l-7.72 7.72c-.78.78-.78 2.05 0 2.83L4 21.41c.39.39.9.59 1.41.59.51 0 1.02-.2 1.41-.59l7.78-7.78 2.81-2.81c.8-.78.8-2.07 0-2.86zM5.41 20L4 18.59l7.72-7.72 1.47 1.35L5.41 20z\"/>\n",
              "  </svg>\n",
              "      </button>\n",
              "      \n",
              "  <style>\n",
              "    .colab-df-container {\n",
              "      display:flex;\n",
              "      flex-wrap:wrap;\n",
              "      gap: 12px;\n",
              "    }\n",
              "\n",
              "    .colab-df-convert {\n",
              "      background-color: #E8F0FE;\n",
              "      border: none;\n",
              "      border-radius: 50%;\n",
              "      cursor: pointer;\n",
              "      display: none;\n",
              "      fill: #1967D2;\n",
              "      height: 32px;\n",
              "      padding: 0 0 0 0;\n",
              "      width: 32px;\n",
              "    }\n",
              "\n",
              "    .colab-df-convert:hover {\n",
              "      background-color: #E2EBFA;\n",
              "      box-shadow: 0px 1px 2px rgba(60, 64, 67, 0.3), 0px 1px 3px 1px rgba(60, 64, 67, 0.15);\n",
              "      fill: #174EA6;\n",
              "    }\n",
              "\n",
              "    [theme=dark] .colab-df-convert {\n",
              "      background-color: #3B4455;\n",
              "      fill: #D2E3FC;\n",
              "    }\n",
              "\n",
              "    [theme=dark] .colab-df-convert:hover {\n",
              "      background-color: #434B5C;\n",
              "      box-shadow: 0px 1px 3px 1px rgba(0, 0, 0, 0.15);\n",
              "      filter: drop-shadow(0px 1px 2px rgba(0, 0, 0, 0.3));\n",
              "      fill: #FFFFFF;\n",
              "    }\n",
              "  </style>\n",
              "\n",
              "      <script>\n",
              "        const buttonEl =\n",
              "          document.querySelector('#df-838b325a-3a5a-465e-b257-288743428e8e button.colab-df-convert');\n",
              "        buttonEl.style.display =\n",
              "          google.colab.kernel.accessAllowed ? 'block' : 'none';\n",
              "\n",
              "        async function convertToInteractive(key) {\n",
              "          const element = document.querySelector('#df-838b325a-3a5a-465e-b257-288743428e8e');\n",
              "          const dataTable =\n",
              "            await google.colab.kernel.invokeFunction('convertToInteractive',\n",
              "                                                     [key], {});\n",
              "          if (!dataTable) return;\n",
              "\n",
              "          const docLinkHtml = 'Like what you see? Visit the ' +\n",
              "            '<a target=\"_blank\" href=https://colab.research.google.com/notebooks/data_table.ipynb>data table notebook</a>'\n",
              "            + ' to learn more about interactive tables.';\n",
              "          element.innerHTML = '';\n",
              "          dataTable['output_type'] = 'display_data';\n",
              "          await google.colab.output.renderOutput(dataTable, element);\n",
              "          const docLink = document.createElement('div');\n",
              "          docLink.innerHTML = docLinkHtml;\n",
              "          element.appendChild(docLink);\n",
              "        }\n",
              "      </script>\n",
              "    </div>\n",
              "  </div>\n",
              "  "
            ],
            "text/plain": [
              "        1st       2nd       3rd       4th       5th     label\n",
              "0  0.000000  0.666667  0.571429  0.643979  0.222222  0.775956\n",
              "1  0.066667  0.166667  0.142857  0.649215  0.222222  0.775956\n",
              "2  0.133333  0.666667  0.571429  0.670157  0.222222  0.775956\n",
              "3  0.466667  1.000000  0.857143  0.701571  0.222222  0.775956\n",
              "4  0.533333  1.000000  0.857143  0.732984  0.222222  0.775956"
            ]
          },
          "metadata": {}
        },
        {
          "output_type": "stream",
          "name": "stdout",
          "text": [
            "Size of training data : 181409\n",
            "Size of test data : 11687\n"
          ]
        }
      ]
    },
    {
      "cell_type": "code",
      "source": [
        "class CustomDatasetFromCSV(Dataset):\n",
        "    def __init__(self, data, transform=None):\n",
        "        self.data = data \n",
        "        self.transforms = transforms\n",
        "        self.to_tensor = transforms.ToTensor()\n",
        "\n",
        "    def __getitem__(self, index):\n",
        "        target = self.data.iloc[index,-1]\n",
        "        data_val = self.data.iloc[index,:-1]\n",
        "        target = torch.tensor(target,dtype=torch.float32)\n",
        "        data_val = torch.tensor(data_val,dtype=torch.float32) \n",
        "        return data_val,target\n",
        "\n",
        "    def __len__(self):\n",
        "        return len(self.data)\n",
        "\n",
        "\n",
        "dataset_trainval = CustomDatasetFromCSV(df_train)\n",
        "dataset_test = CustomDatasetFromCSV(df_test)\n",
        "batch_size = 128\n",
        "validation_split = 0.075\n",
        "#test_split = .15\n",
        "shuffle_dataset = True\n",
        "random_seed= 42\n",
        "\n",
        "dataset_size = len(dataset_trainval)\n",
        "indices = list(range(dataset_size))\n",
        "split = int(np.floor((validation_split) * dataset_size))\n",
        "if shuffle_dataset :\n",
        "    np.random.seed(random_seed)\n",
        "    np.random.shuffle(indices)\n",
        "train_indices, val_indices = indices[split:], indices[:split]\n",
        "train_sampler = SubsetRandomSampler(train_indices)\n",
        "valid_sampler = SubsetRandomSampler(val_indices)\n",
        "\n",
        "train_loader = torch.utils.data.DataLoader(dataset_trainval, batch_size=batch_size, \n",
        "                                           sampler=train_sampler,drop_last=True)\n",
        "validation_loader = torch.utils.data.DataLoader(dataset_trainval, batch_size=batch_size,\n",
        "                                                sampler=valid_sampler,drop_last=True)\n",
        "test_loader = torch.utils.data.DataLoader(dataset_test, batch_size=128,\n",
        "                                                drop_last=True)"
      ],
      "metadata": {
        "id": "-2A0w9AGC9rK"
      },
      "execution_count": null,
      "outputs": []
    },
    {
      "cell_type": "code",
      "source": [
        "class mymodel(torch.nn.Module):\n",
        "    def __init__(self, D_in, H1, H2, H3, H4, H5, H6, D_out):\n",
        "        \"\"\"\n",
        "        In the constructor we construct three nn.Linear instances that we will use\n",
        "        in the forward pass.\n",
        "        \"\"\"\n",
        "        super(mymodel, self).__init__()\n",
        "        # self.input_linear = torch.nn.Linear(D_in, H)\n",
        "        # self.output_linear = torch.nn.Linear(H, D_out)\n",
        "        self.linear1 = nn.Linear(D_in, H1)\n",
        "        self.norm1 = nn.BatchNorm1d(H1)\n",
        "        self.linear2 = nn.Linear(H1, H2)\n",
        "        self.norm2 = nn.BatchNorm1d(H2)\n",
        "        self.linear3 = nn.Linear(H2, H3)\n",
        "        self.norm3 = nn.BatchNorm1d(H3)\n",
        "        self.linear4 = nn.Linear(H3, H4)\n",
        "        self.norm4 = nn.BatchNorm1d(H4)\n",
        "        self.linear5 = nn.Linear(H4, H5)\n",
        "        self.linear6 = nn.Linear(H5, H6)\n",
        "        self.linear7 = nn.Linear(H6, D_out)\n",
        "\n",
        "    def forward(self, x):\n",
        "        # Max pooling over a (2, 2) window\n",
        "        x = F.leaky_relu(self.norm1(self.linear1(x)))\n",
        "        x = F.leaky_relu(self.norm2(self.linear2(x)))\n",
        "        x = F.leaky_relu(self.norm3(self.linear3(x)))\n",
        "        x = F.leaky_relu(self.norm4(self.linear4(x)))\n",
        "        x = F.leaky_relu(self.linear5(x))\n",
        "        x = F.leaky_relu(self.linear6(x))\n",
        "        x = self.linear7(x)\n",
        "        #print(x.shape[0])\n",
        "        return x.view(batch_size)\n",
        "        # x = x.view(x.shape[0])\n",
        "        # return x    "
      ],
      "metadata": {
        "id": "PgsR0vAjDBxG"
      },
      "execution_count": null,
      "outputs": []
    },
    {
      "cell_type": "code",
      "source": [
        "D_in, H1, H2, H3, H4, H5, H6, D_out = 5, 64, 128, 256, 128, 128, 64, 1"
      ],
      "metadata": {
        "id": "HBhZWxObDDWe"
      },
      "execution_count": null,
      "outputs": []
    },
    {
      "cell_type": "code",
      "source": [
        "print(len(train_loader))\n",
        "print(len(validation_loader))\n",
        "print(len(test_loader))"
      ],
      "metadata": {
        "colab": {
          "base_uri": "https://localhost:8080/"
        },
        "id": "lUAYzOysDFxn",
        "outputId": "a73ea119-ca73-42d7-8794-910049153c80"
      },
      "execution_count": null,
      "outputs": [
        {
          "output_type": "stream",
          "name": "stdout",
          "text": [
            "1310\n",
            "106\n",
            "91\n"
          ]
        }
      ]
    },
    {
      "cell_type": "code",
      "source": [
        "def custom_accuracy(y_test,y_pred,thresold=10):\n",
        "    right = 0\n",
        "    l = len(y_pred)\n",
        "    for i in range(0,l):\n",
        "        if(abs(y_pred[i]-y_test[i]) <= thresold):\n",
        "            right += 1\n",
        "    return (right)\n",
        "\n",
        "def mean_absolute_percentage_error(y_true, y_pred):\n",
        "\n",
        "    return np.mean(np.abs((y_true - y_pred) / y_true)) * 100\n",
        "\n",
        "def r2(y_true,y_pred):\n",
        "    return roundup(r2_score(y_true,y_pred))\n",
        "\n",
        "def mse(y_true,y_pred):\n",
        "    return roundup(mean_squared_error(y_true,y_pred))\n",
        "\n",
        "def mae(y_true,y_pred):\n",
        "    return roundup(mean_absolute_error(y_true,y_pred))\n",
        "\n",
        "def mape(y_true, y_pred):\n",
        "    return roundup(mean_absolute_percentage_error(y_true,y_pred))\n",
        "\n",
        "def roundup(a, digits=4):\n",
        "    n = 10**-digits\n",
        "    return round(math.ceil(a / n) * n, digits)\n",
        "\n",
        "def isEven(num):\n",
        "    if num%2 ==0:\n",
        "        return True\n",
        "    return False\n",
        "\n",
        "def modLog(num):\n",
        "    try:\n",
        "        return log(num)\n",
        "    except:\n",
        "        return 0\n",
        "\n",
        "def loadNumpy(name,path='.'):\n",
        "    if \".npy\" in name:\n",
        "        fullPath = path+'/'+name\n",
        "    else:\n",
        "        fullPath = path+'/'+name+'.npy'\n",
        "    return np.load(fullPath, allow_pickle=True)"
      ],
      "metadata": {
        "id": "tAaGz-phDHQt"
      },
      "execution_count": null,
      "outputs": []
    },
    {
      "cell_type": "markdown",
      "source": [
        "## Model summary of NN"
      ],
      "metadata": {
        "id": "kmg45ibYnz2p"
      }
    },
    {
      "cell_type": "code",
      "source": [
        "model = mymodel(D_in, H1, H2, H3, H4, H5, H6, D_out)\n",
        "print(model)\n",
        "criterion = torch.nn.MSELoss() \n",
        "optimizer = torch.optim.Adam(model.parameters(), lr=1e-3)\n",
        "if torch.cuda.is_available():\n",
        "    model.to('cuda')"
      ],
      "metadata": {
        "colab": {
          "base_uri": "https://localhost:8080/"
        },
        "id": "V7myZqnyDJ41",
        "outputId": "229c46d4-6550-4e0f-c99b-4113130129ec"
      },
      "execution_count": null,
      "outputs": [
        {
          "output_type": "stream",
          "name": "stdout",
          "text": [
            "mymodel(\n",
            "  (linear1): Linear(in_features=5, out_features=64, bias=True)\n",
            "  (norm1): BatchNorm1d(64, eps=1e-05, momentum=0.1, affine=True, track_running_stats=True)\n",
            "  (linear2): Linear(in_features=64, out_features=128, bias=True)\n",
            "  (norm2): BatchNorm1d(128, eps=1e-05, momentum=0.1, affine=True, track_running_stats=True)\n",
            "  (linear3): Linear(in_features=128, out_features=256, bias=True)\n",
            "  (norm3): BatchNorm1d(256, eps=1e-05, momentum=0.1, affine=True, track_running_stats=True)\n",
            "  (linear4): Linear(in_features=256, out_features=128, bias=True)\n",
            "  (norm4): BatchNorm1d(128, eps=1e-05, momentum=0.1, affine=True, track_running_stats=True)\n",
            "  (linear5): Linear(in_features=128, out_features=128, bias=True)\n",
            "  (linear6): Linear(in_features=128, out_features=64, bias=True)\n",
            "  (linear7): Linear(in_features=64, out_features=1, bias=True)\n",
            ")\n"
          ]
        }
      ]
    },
    {
      "cell_type": "markdown",
      "source": [
        "## Number of trainable parameters"
      ],
      "metadata": {
        "id": "apAr5K2Tn46z"
      }
    },
    {
      "cell_type": "code",
      "source": [
        "def count_parameters(model):\n",
        "    return sum(p.numel() for p in model.parameters() if p.requires_grad)\n",
        "\n",
        "print(f'The model has {count_parameters(model):,} trainable parameters')"
      ],
      "metadata": {
        "colab": {
          "base_uri": "https://localhost:8080/"
        },
        "id": "ds--fsU4DMCx",
        "outputId": "ee359ecc-30bd-4190-9103-da1be45b24ab"
      },
      "execution_count": null,
      "outputs": [
        {
          "output_type": "stream",
          "name": "stdout",
          "text": [
            "The model has 100,609 trainable parameters\n"
          ]
        }
      ]
    },
    {
      "cell_type": "markdown",
      "source": [
        "## Training the Model"
      ],
      "metadata": {
        "id": "tgWSAiEOn9ps"
      }
    },
    {
      "cell_type": "code",
      "source": [
        "step = 0\n",
        "epochs = 200\n",
        "train_loss_list = []\n",
        "valid_loss_list = []\n",
        "train_acc_l = []\n",
        "val_acc_l = []\n",
        "validation_acc_l = []"
      ],
      "metadata": {
        "id": "Yn5CB0q6U-2-"
      },
      "execution_count": null,
      "outputs": []
    },
    {
      "cell_type": "code",
      "source": [
        "loaded_e, train_loss_list, valid_loss_list, train_acc_l, val_acc_l = load_progress_list()\n",
        "load_checkpoint(model, optimizer)\n",
        "rem_epochs = epochs-loaded_e"
      ],
      "metadata": {
        "id": "Aq2Symz5VTnM"
      },
      "execution_count": null,
      "outputs": []
    },
    {
      "cell_type": "code",
      "source": [
        "rem_epochs, len(train_loss_list)"
      ],
      "metadata": {
        "colab": {
          "base_uri": "https://localhost:8080/"
        },
        "id": "k9xt9u3gWtuH",
        "outputId": "db6915bb-eb83-411c-f69b-2fe611d87113"
      },
      "execution_count": null,
      "outputs": [
        {
          "output_type": "execute_result",
          "data": {
            "text/plain": [
              "(2, 200)"
            ]
          },
          "metadata": {},
          "execution_count": 19
        }
      ]
    },
    {
      "cell_type": "code",
      "source": [
        "%%time\n",
        "\n",
        "for e in range(rem_epochs):\n",
        "    running_loss_train = 0 \n",
        "    running_loss_valid = 0\n",
        "    validation_r2 = 0\n",
        "    train_r2 = 0\n",
        "\n",
        "\n",
        "    for inputs, labels in train_loader:\n",
        "\n",
        "        # Clear the gradients of all optimized tensors\n",
        "        #print(inputs)\n",
        "        #print(inputs,labels)\n",
        "        optimizer.zero_grad()\n",
        "        if torch.cuda.is_available():\n",
        "            inputs, labels = inputs.to('cuda'), labels.to('cuda')   \n",
        "        else:\n",
        "            inputs, labels = input, labels        \n",
        "        # Forward pass\n",
        "        model.train()\n",
        "        #print(type(inputs))\n",
        "        outputs = model.forward(inputs)\n",
        "        predicted = outputs.data\n",
        "        #print(predicted,labels)\n",
        "        #print(labels,predicted)\n",
        "        #print(predicted,labels)\n",
        "    \n",
        "        #print(predicted,labels)\n",
        "\n",
        "        #training_total += labels.size(0)\n",
        "                \n",
        "        train_loss = criterion(outputs, labels)\n",
        "        train_r2_ =  r2(outputs.detach().cpu().numpy(), labels.detach().cpu().numpy())\n",
        "        #training_correct += r2_loss\n",
        "        \n",
        "        #train_acc = training_correct\n",
        "        # Backward pass\n",
        "        train_loss.backward()\n",
        "        optimizer.step()\n",
        "        \n",
        "        # Calculate and print running training loss\n",
        "        running_loss_train += train_loss.item()  \n",
        "        train_r2 +=  train_r2_\n",
        "    validation_correct = 0\n",
        "    validation_total = 0\n",
        "\n",
        "        \n",
        "    with torch.no_grad():    \n",
        "            #count=0         \n",
        "            # Iterate over the entire validation dataset\n",
        "            for input_images2, labels2 in validation_loader:\n",
        "                \n",
        "                # Enable CUDA: use GPUs for model computation\n",
        "                #count+=1\n",
        "                #print(count)\n",
        "                if torch.cuda.is_available():\n",
        "                    input_images2, labels2 = input_images2.to('cuda'), labels2.to('cuda')\n",
        "                \n",
        "                # Make predictions \n",
        "                outputs2 = model.forward(input_images2)\n",
        "                predicted2 = outputs2.data\n",
        "                #print(predicted2,labels2)\n",
        "                valid_r2_ =  r2(outputs2.detach().cpu().numpy(), labels2.detach().cpu().numpy())\n",
        "                # Count total and correct predictions\n",
        "                validation_total += labels2.size(0)\n",
        "                validation_correct += custom_accuracy(labels2,predicted2,10/300)  \n",
        "                #val_acc = custom_accuracy(labels2,predicted2)\n",
        "                valid_loss = criterion(outputs2, labels2)\n",
        "                # val_acc = validation_correct / validation_total\n",
        "                running_loss_valid += valid_loss.item()  \n",
        "                validation_r2 +=  valid_r2_\n",
        "\n",
        "    val_acc = validation_correct / validation_total\n",
        "\n",
        "    print(\"Epoch: {}/{}... \".format(e+1, epochs),\n",
        "          \"| Train Loss: {:.4f}\".format(running_loss_train/len(train_loader)),\n",
        "          \"| Val Loss: {:.4f}\".format(running_loss_valid/len(validation_loader)),\n",
        "          \"| Train R2: {:.4f}\".format(train_r2/len(train_loader)),\n",
        "          \"| Val R2: {:.4f}\".format(validation_r2/len(validation_loader)),\n",
        "          \"| Val Acc: {:.4f} %\".format(val_acc*100))\n",
        "    train_loss_list.append(running_loss_train/len(train_loader))\n",
        "    valid_loss_list.append(running_loss_valid/len(validation_loader))\n",
        "    train_acc_l.append(train_r2/len(train_loader))\n",
        "    val_acc_l.append(validation_r2/len(validation_loader))\n",
        "    validation_acc_l.append(val_acc*100)\n",
        "\n",
        "    if (e+1)%10 == 0 or e+1 == rem_epochs:\n",
        "      ep=loaded_e + e\n",
        "      save_checkpoint(ep)\n",
        "      save_progress_list(ep)\n",
        "\n",
        "          \n",
        "    running_loss_train = 0\n",
        "    running_loss_valid = 0"
      ],
      "metadata": {
        "colab": {
          "base_uri": "https://localhost:8080/"
        },
        "id": "X2Am0MrZDNg8",
        "outputId": "9ca94340-d3cc-474f-d433-4d7338ed1415"
      },
      "execution_count": null,
      "outputs": [
        {
          "output_type": "stream",
          "name": "stdout",
          "text": [
            "Epoch: 1/200...  | Train Loss: 0.0111 | Val Loss: 0.0111 | Train R2: -0.5647 | Val R2: -0.6518 | Val Acc: 30.4024 %\n",
            "Epoch: 2/200...  | Train Loss: 0.0111 | Val Loss: 0.0111 | Train R2: -0.5693 | Val R2: -0.6911 | Val Acc: 30.1445 %\n",
            "Epoch: 3/200...  | Train Loss: 0.0111 | Val Loss: 0.0111 | Train R2: -0.5742 | Val R2: -0.6909 | Val Acc: 30.0339 %\n",
            "Epoch: 4/200...  | Train Loss: 0.0111 | Val Loss: 0.0111 | Train R2: -0.5630 | Val R2: -0.6712 | Val Acc: 29.6580 %\n",
            "Epoch: 5/200...  | Train Loss: 0.0111 | Val Loss: 0.0111 | Train R2: -0.5644 | Val R2: -0.6726 | Val Acc: 29.7833 %\n",
            "Epoch: 6/200...  | Train Loss: 0.0111 | Val Loss: 0.0111 | Train R2: -0.5650 | Val R2: -0.5825 | Val Acc: 30.2624 %\n",
            "CPU times: user 7min 36s, sys: 13.4 s, total: 7min 50s\n",
            "Wall time: 7min 34s\n"
          ]
        }
      ]
    },
    {
      "cell_type": "markdown",
      "source": [
        "## Training and Validation accuracy and loss -V/S- Epochs"
      ],
      "metadata": {
        "id": "C6cYBFQwoYr2"
      }
    },
    {
      "cell_type": "code",
      "source": [
        "import matplotlib.pyplot as plt\n",
        "plt.rcParams.update({'font.size': 15})\n",
        "plt.figure(figsize=(10,5))\n",
        "# train_loss_list2 = [x/len(train_loader) for x in train_loss_list]\n",
        "# valid_loss_list2 = [x/len(validation_loader) for x in valid_loss_list]\n",
        "plt.plot(train_loss_list,c='g',label=\"Training Loss\",linewidth=2)\n",
        "plt.plot(valid_loss_list,c='r',label=\"Validation Loss\",linewidth=2)\n",
        "plt.xlabel('Epochs')\n",
        "plt.ylabel('Loss')\n",
        "plt.xlim(1,200)\n",
        "plt.legend()\n",
        "plt.show()"
      ],
      "metadata": {
        "colab": {
          "base_uri": "https://localhost:8080/",
          "height": 344
        },
        "id": "h5V3hetkKBVp",
        "outputId": "88f97901-dd9f-4043-b6bd-98a7c5db6a21"
      },
      "execution_count": null,
      "outputs": [
        {
          "output_type": "display_data",
          "data": {
            "image/png": "[encoded data removed]",
            "text/plain": [
              "<Figure size 720x360 with 1 Axes>"
            ]
          },
          "metadata": {
            "needs_background": "light"
          }
        }
      ]
    },
    {
      "cell_type": "code",
      "source": [
        "import matplotlib.pyplot as plt\n",
        "plt.rcParams.update({'font.size': 15})\n",
        "plt.figure(figsize=(10,5))\n",
        "# train_loss_list2 = [x/len(train_loader) for x in train_loss_list]\n",
        "# valid_loss_list2 = [x/len(validation_loader) for x in valid_loss_list]\n",
        "plt.plot(train_acc_l[0:],c='g',label=\"Training R2\",linewidth=2)\n",
        "plt.plot(val_acc_l[0:],c='r',label=\"Validation R2\",linewidth=2)\n",
        "plt.xlabel('Epochs')\n",
        "plt.ylabel('R2')\n",
        "plt.xlim(0,200)\n",
        "plt.legend()\n",
        "plt.show()"
      ],
      "metadata": {
        "colab": {
          "base_uri": "https://localhost:8080/",
          "height": 344
        },
        "id": "2X4vke4JKP7e",
        "outputId": "b1958416-b4ec-4c32-f2b8-9b7ffddee0cb"
      },
      "execution_count": null,
      "outputs": [
        {
          "output_type": "display_data",
          "data": {
            "image/png": "[encoded data removed]",
            "text/plain": [
              "<Figure size 720x360 with 1 Axes>"
            ]
          },
          "metadata": {
            "needs_background": "light"
          }
        }
      ]
    },
    {
      "cell_type": "markdown",
      "source": [
        "## Final Test Accuracy"
      ],
      "metadata": {
        "id": "ZP0Pzob3oP8s"
      }
    },
    {
      "cell_type": "code",
      "source": [
        "with torch.no_grad(): \n",
        "      model.eval()  \n",
        "      test_total=0 \n",
        "      test_correct=0\n",
        "      for input_images3, labels3 in test_loader:\n",
        "\n",
        "          if torch.cuda.is_available():\n",
        "              input_images3, labels3 = input_images3.to('cuda'), labels3.to('cuda')\n",
        "          \n",
        "          outputs3= model.forward(input_images3)\n",
        "          predicted3 = outputs3.data\n",
        "          #print(predicted3, labels3)\n",
        "          test_r2_ =  r2(outputs3.detach().cpu().numpy(), labels3.detach().cpu().numpy())\n",
        "          test_total += labels3.size(0)\n",
        "          test_correct += custom_accuracy(labels3,predicted3,40/300) \n",
        "          #print(test_correct)\n",
        "          test_r2_ +=  test_r2_"
      ],
      "metadata": {
        "id": "WtEtITyfJ7F2"
      },
      "execution_count": null,
      "outputs": []
    },
    {
      "cell_type": "code",
      "source": [
        "test_acc = test_correct/test_total*100\n",
        "test_r2 = test_r2_/test_total\n",
        "print(test_acc,test_r2)"
      ],
      "metadata": {
        "colab": {
          "base_uri": "https://localhost:8080/"
        },
        "id": "CoQlK6PpDPZO",
        "outputId": "c76d90b2-17c1-447b-ac7a-d63875fddb2a"
      },
      "execution_count": null,
      "outputs": [
        {
          "output_type": "stream",
          "name": "stdout",
          "text": [
            "53.54567307692307 -8.173076923076923e-06\n"
          ]
        }
      ]
    },
    {
      "cell_type": "code",
      "source": [
        "model"
      ],
      "metadata": {
        "id": "D0px5xX3gPRV"
      },
      "execution_count": null,
      "outputs": []
    },
    {
      "cell_type": "markdown",
      "source": [
        "## Saving the Progress and Model parameters"
      ],
      "metadata": {
        "id": "aD8vzUcwodIu"
      }
    },
    {
      "cell_type": "code",
      "source": [
        "path_to_checkpoint = '/content/drive/MyDrive/WiDS_IPL'\n",
        "\n",
        "import os\n",
        "\n",
        "def save_checkpoint(e):\n",
        "  if not os.path.isdir(path_to_checkpoint):\n",
        "    os.mkdir(path_to_checkpoint)\n",
        "  torch.save({'e':e,'model': model.state_dict(), 'optim': optimizer.state_dict()}, os.path.join(path_to_checkpoint, 'checkpoint_reg_pytorch.pth'))\n",
        "\n",
        "def save_progress_list(e):\n",
        "  if not os.path.isdir(path_to_checkpoint):\n",
        "    os.mkdir(path_to_checkpoint)\n",
        "  torch.save({'e':e,'train_loss': train_loss_list, 'valid_loss': valid_loss_list, 'train_acc': train_acc_l, 'valid_acc': val_acc_l }, \n",
        "             os.path.join(path_to_checkpoint, 'progress_reg_pytorch.pth'))\n",
        "\n",
        "def load_checkpoint(model1, optimizer1):\n",
        "  if not os.path.isfile(os.path.join(path_to_checkpoint, 'checkpoint_reg_pytorch.pth')):\n",
        "    return -1\n",
        "  dic = torch.load(os.path.join(path_to_checkpoint, 'checkpoint_reg_pytorch.pth'))\n",
        "  model1.load_state_dict(dic['model'])\n",
        "  optimizer1.load_state_dict(dic['optim'])\n",
        "  return dic['e']\n",
        "\n",
        "def load_progress_list():\n",
        "  if not os.path.isfile(os.path.join(path_to_checkpoint, 'progress_reg_pytorch.pth')):\n",
        "    return -1\n",
        "  dic = torch.load(os.path.join(path_to_checkpoint, 'progress_reg_pytorch.pth'))\n",
        "  return dic['e'], dic['train_loss'], dic['valid_loss'], dic['train_acc'], dic['valid_acc']"
      ],
      "metadata": {
        "id": "Ieflw9IEK_w1"
      },
      "execution_count": null,
      "outputs": []
    },
    {
      "cell_type": "code",
      "source": [
        "# e, train_loss_list, valid_loss_list, train_acc_l, val_acc_l = load_progress_list()\n",
        "# load_checkpoint(model, optimizer)"
      ],
      "metadata": {
        "id": "zOjqOaneVbIs"
      },
      "execution_count": null,
      "outputs": []
    },
    {
      "cell_type": "code",
      "source": [
        "e=54+30\n",
        "save_checkpoint(e)\n",
        "save_progress_list(e)"
      ],
      "metadata": {
        "id": "L8drUS9wTA6-"
      },
      "execution_count": null,
      "outputs": []
    },
    {
      "cell_type": "code",
      "source": [
        "train_loss_list, valid_loss_list, train_acc_l, val_acc_l"
      ],
      "metadata": {
        "id": "UIQ6FAAwUp76"
      },
      "execution_count": null,
      "outputs": []
    },
    {
      "cell_type": "markdown",
      "source": [
        "# **Classification Task using PyTorch**"
      ],
      "metadata": {
        "id": "t2EEEG7H4hke"
      }
    },
    {
      "cell_type": "code",
      "source": [
        "!cp /content/drive/MyDrive/WiDS_IPL/matches_prediction.csv .\n",
        "df = pd.read_csv('matches_prediction.csv')\n",
        "y = df['team1_win']\n",
        "X = df.drop('team1_win', axis=1)"
      ],
      "metadata": {
        "id": "WYATLoig4_64"
      },
      "execution_count": null,
      "outputs": []
    },
    {
      "cell_type": "code",
      "source": [
        "X.head()"
      ],
      "metadata": {
        "colab": {
          "base_uri": "https://localhost:8080/",
          "height": 206
        },
        "id": "S05tiuGw5x_7",
        "outputId": "16e85a8a-fe48-45f1-e527-e0bd4f198cbf"
      },
      "execution_count": null,
      "outputs": [
        {
          "output_type": "execute_result",
          "data": {
            "text/html": [
              "\n",
              "  <div id=\"df-7122dc4e-932e-4aff-bb72-d95851150de6\">\n",
              "    <div class=\"colab-df-container\">\n",
              "      <div>\n",
              "<style scoped>\n",
              "    .dataframe tbody tr th:only-of-type {\n",
              "        vertical-align: middle;\n",
              "    }\n",
              "\n",
              "    .dataframe tbody tr th {\n",
              "        vertical-align: top;\n",
              "    }\n",
              "\n",
              "    .dataframe thead th {\n",
              "        text-align: right;\n",
              "    }\n",
              "</style>\n",
              "<table border=\"1\" class=\"dataframe\">\n",
              "  <thead>\n",
              "    <tr style=\"text-align: right;\">\n",
              "      <th></th>\n",
              "      <th>team1</th>\n",
              "      <th>team2</th>\n",
              "      <th>team1_toss_win</th>\n",
              "      <th>team1_bat</th>\n",
              "      <th>venue</th>\n",
              "    </tr>\n",
              "  </thead>\n",
              "  <tbody>\n",
              "    <tr>\n",
              "      <th>0</th>\n",
              "      <td>13</td>\n",
              "      <td>12</td>\n",
              "      <td>0.0</td>\n",
              "      <td>1</td>\n",
              "      <td>28</td>\n",
              "    </tr>\n",
              "    <tr>\n",
              "      <th>1</th>\n",
              "      <td>8</td>\n",
              "      <td>11</td>\n",
              "      <td>0.0</td>\n",
              "      <td>1</td>\n",
              "      <td>21</td>\n",
              "    </tr>\n",
              "    <tr>\n",
              "      <th>2</th>\n",
              "      <td>4</td>\n",
              "      <td>7</td>\n",
              "      <td>0.0</td>\n",
              "      <td>1</td>\n",
              "      <td>31</td>\n",
              "    </tr>\n",
              "    <tr>\n",
              "      <th>3</th>\n",
              "      <td>11</td>\n",
              "      <td>5</td>\n",
              "      <td>0.0</td>\n",
              "      <td>1</td>\n",
              "      <td>13</td>\n",
              "    </tr>\n",
              "    <tr>\n",
              "      <th>4</th>\n",
              "      <td>12</td>\n",
              "      <td>3</td>\n",
              "      <td>1.0</td>\n",
              "      <td>1</td>\n",
              "      <td>17</td>\n",
              "    </tr>\n",
              "  </tbody>\n",
              "</table>\n",
              "</div>\n",
              "      <button class=\"colab-df-convert\" onclick=\"convertToInteractive('df-7122dc4e-932e-4aff-bb72-d95851150de6')\"\n",
              "              title=\"Convert this dataframe to an interactive table.\"\n",
              "              style=\"display:none;\">\n",
              "        \n",
              "  <svg xmlns=\"http://www.w3.org/2000/svg\" height=\"24px\"viewBox=\"0 0 24 24\"\n",
              "       width=\"24px\">\n",
              "    <path d=\"M0 0h24v24H0V0z\" fill=\"none\"/>\n",
              "    <path d=\"M18.56 5.44l.94 2.06.94-2.06 2.06-.94-2.06-.94-.94-2.06-.94 2.06-2.06.94zm-11 1L8.5 8.5l.94-2.06 2.06-.94-2.06-.94L8.5 2.5l-.94 2.06-2.06.94zm10 10l.94 2.06.94-2.06 2.06-.94-2.06-.94-.94-2.06-.94 2.06-2.06.94z\"/><path d=\"M17.41 7.96l-1.37-1.37c-.4-.4-.92-.59-1.43-.59-.52 0-1.04.2-1.43.59L10.3 9.45l-7.72 7.72c-.78.78-.78 2.05 0 2.83L4 21.41c.39.39.9.59 1.41.59.51 0 1.02-.2 1.41-.59l7.78-7.78 2.81-2.81c.8-.78.8-2.07 0-2.86zM5.41 20L4 18.59l7.72-7.72 1.47 1.35L5.41 20z\"/>\n",
              "  </svg>\n",
              "      </button>\n",
              "      \n",
              "  <style>\n",
              "    .colab-df-container {\n",
              "      display:flex;\n",
              "      flex-wrap:wrap;\n",
              "      gap: 12px;\n",
              "    }\n",
              "\n",
              "    .colab-df-convert {\n",
              "      background-color: #E8F0FE;\n",
              "      border: none;\n",
              "      border-radius: 50%;\n",
              "      cursor: pointer;\n",
              "      display: none;\n",
              "      fill: #1967D2;\n",
              "      height: 32px;\n",
              "      padding: 0 0 0 0;\n",
              "      width: 32px;\n",
              "    }\n",
              "\n",
              "    .colab-df-convert:hover {\n",
              "      background-color: #E2EBFA;\n",
              "      box-shadow: 0px 1px 2px rgba(60, 64, 67, 0.3), 0px 1px 3px 1px rgba(60, 64, 67, 0.15);\n",
              "      fill: #174EA6;\n",
              "    }\n",
              "\n",
              "    [theme=dark] .colab-df-convert {\n",
              "      background-color: #3B4455;\n",
              "      fill: #D2E3FC;\n",
              "    }\n",
              "\n",
              "    [theme=dark] .colab-df-convert:hover {\n",
              "      background-color: #434B5C;\n",
              "      box-shadow: 0px 1px 3px 1px rgba(0, 0, 0, 0.15);\n",
              "      filter: drop-shadow(0px 1px 2px rgba(0, 0, 0, 0.3));\n",
              "      fill: #FFFFFF;\n",
              "    }\n",
              "  </style>\n",
              "\n",
              "      <script>\n",
              "        const buttonEl =\n",
              "          document.querySelector('#df-7122dc4e-932e-4aff-bb72-d95851150de6 button.colab-df-convert');\n",
              "        buttonEl.style.display =\n",
              "          google.colab.kernel.accessAllowed ? 'block' : 'none';\n",
              "\n",
              "        async function convertToInteractive(key) {\n",
              "          const element = document.querySelector('#df-7122dc4e-932e-4aff-bb72-d95851150de6');\n",
              "          const dataTable =\n",
              "            await google.colab.kernel.invokeFunction('convertToInteractive',\n",
              "                                                     [key], {});\n",
              "          if (!dataTable) return;\n",
              "\n",
              "          const docLinkHtml = 'Like what you see? Visit the ' +\n",
              "            '<a target=\"_blank\" href=https://colab.research.google.com/notebooks/data_table.ipynb>data table notebook</a>'\n",
              "            + ' to learn more about interactive tables.';\n",
              "          element.innerHTML = '';\n",
              "          dataTable['output_type'] = 'display_data';\n",
              "          await google.colab.output.renderOutput(dataTable, element);\n",
              "          const docLink = document.createElement('div');\n",
              "          docLink.innerHTML = docLinkHtml;\n",
              "          element.appendChild(docLink);\n",
              "        }\n",
              "      </script>\n",
              "    </div>\n",
              "  </div>\n",
              "  "
            ],
            "text/plain": [
              "   team1  team2  team1_toss_win  team1_bat  venue\n",
              "0     13     12             0.0          1     28\n",
              "1      8     11             0.0          1     21\n",
              "2      4      7             0.0          1     31\n",
              "3     11      5             0.0          1     13\n",
              "4     12      3             1.0          1     17"
            ]
          },
          "metadata": {},
          "execution_count": 10
        }
      ]
    },
    {
      "cell_type": "code",
      "source": [
        "y.head()"
      ],
      "metadata": {
        "colab": {
          "base_uri": "https://localhost:8080/"
        },
        "id": "QzIeBqYR50xc",
        "outputId": "1f6cf575-3309-4403-f335-f70f2db014f7"
      },
      "execution_count": null,
      "outputs": [
        {
          "output_type": "execute_result",
          "data": {
            "text/plain": [
              "0    1.0\n",
              "1    0.0\n",
              "2    0.0\n",
              "3    0.0\n",
              "4    1.0\n",
              "Name: team1_win, dtype: float64"
            ]
          },
          "metadata": {},
          "execution_count": 11
        }
      ]
    },
    {
      "cell_type": "code",
      "source": [
        "import seaborn as sns\n",
        "import numpy as np\n",
        "from sklearn.model_selection import train_test_split\n",
        "import matplotlib\n",
        "from tqdm import tqdm\n",
        "import torch\n",
        "\n",
        "from sklearn.datasets import make_classification\n",
        "import matplotlib.pyplot as plt\n",
        "\n",
        "\n",
        "# X_train, X_test, y_train,  y_test = train_test_split(\n",
        "#     X, y, test_size=0.2, random_state=42)\n",
        "\n",
        "A, X_test, b, y_test = train_test_split(X,y,test_size=0.1,train_size=0.9, random_state=101)\n",
        "X_train, X_final_test, y_train, y_final_test = train_test_split(A,b,test_size = 0.1/0.9,train_size =0.8/0.9, random_state=101)\n",
        "\n",
        "\n",
        "class LogisticRegression(torch.nn.Module):\n",
        "    # def __init__(self, input_dim, output_dim):\n",
        "    def __init__(self, D_in, H1, H2, D_out):\n",
        "        super(LogisticRegression, self).__init__()\n",
        "        # self.linear = torch.nn.Linear(input_dim, output_dim)\n",
        "        self.linear1 = nn.Linear(D_in, H1)\n",
        "        self.norm1 = nn.BatchNorm1d(H1)\n",
        "        self.linear2 = nn.Linear(H1, H2)\n",
        "        self.norm2 = nn.BatchNorm1d(H2)\n",
        "        self.linear7 = nn.Linear(H2, D_out)\n",
        "\n",
        "    def forward(self, x):\n",
        "        # outputs = torch.sigmoid(self.linear(x))\n",
        "        x = F.leaky_relu(self.norm1(self.linear1(x)))\n",
        "        x = F.leaky_relu(self.norm2(self.linear2(x)))\n",
        "        x = self.linear7(x)\n",
        "        outputs = torch.sigmoid(x)\n",
        "        return outputs\n",
        "\n",
        "epochs = 200\n",
        "# input_dim = 5 # Two inputs x1 and x2 \n",
        "# output_dim = 1 # Two possible outputs\n",
        "D_in, H1, H2, D_out = 5, 32, 32, 1\n",
        "learning_rate = 0.01\n",
        "\n",
        "# model = LogisticRegression(input_dim,output_dim)\n",
        "model = LogisticRegression(D_in, H1, H2, D_out)\n",
        "\n",
        "criterion = torch.nn.BCELoss()\n",
        "\n",
        "optimizer = torch.optim.SGD(model.parameters(), lr=learning_rate)\n",
        "\n",
        "X_train, X_test, X_final_test = torch.Tensor(X_train.values),torch.Tensor(X_test.values),torch.Tensor(X_final_test.values)\n",
        "y_train, y_test, y_final_test = torch.Tensor(y_train.values),torch.Tensor(y_test.values),torch.Tensor(y_final_test.values)\n"
      ],
      "metadata": {
        "id": "wAsp6UvI4lID"
      },
      "execution_count": null,
      "outputs": []
    },
    {
      "cell_type": "markdown",
      "source": [
        "## Model summary of NN"
      ],
      "metadata": {
        "id": "5Qs4NF70gjcl"
      }
    },
    {
      "cell_type": "code",
      "source": [
        "model"
      ],
      "metadata": {
        "colab": {
          "base_uri": "https://localhost:8080/"
        },
        "id": "ZMIorcljMkcB",
        "outputId": "8ef273b0-ba16-4841-ef5a-2718331db03c"
      },
      "execution_count": null,
      "outputs": [
        {
          "output_type": "execute_result",
          "data": {
            "text/plain": [
              "LogisticRegression(\n",
              "  (linear1): Linear(in_features=5, out_features=32, bias=True)\n",
              "  (norm1): BatchNorm1d(32, eps=1e-05, momentum=0.1, affine=True, track_running_stats=True)\n",
              "  (linear2): Linear(in_features=32, out_features=32, bias=True)\n",
              "  (norm2): BatchNorm1d(32, eps=1e-05, momentum=0.1, affine=True, track_running_stats=True)\n",
              "  (linear7): Linear(in_features=32, out_features=1, bias=True)\n",
              ")"
            ]
          },
          "metadata": {},
          "execution_count": 45
        }
      ]
    },
    {
      "cell_type": "markdown",
      "source": [
        "##  Number of trainable parameters"
      ],
      "metadata": {
        "id": "UmctS171hZPz"
      }
    },
    {
      "cell_type": "code",
      "source": [
        "def count_parameters(model):\n",
        "    return sum(p.numel() for p in model.parameters() if p.requires_grad)\n",
        "\n",
        "print(f'The model has {count_parameters(model):,} trainable parameters')"
      ],
      "metadata": {
        "colab": {
          "base_uri": "https://localhost:8080/"
        },
        "id": "ICIkcfT4NUG1",
        "outputId": "492a3138-25f4-4743-88cd-98143f187032"
      },
      "execution_count": null,
      "outputs": [
        {
          "output_type": "stream",
          "name": "stdout",
          "text": [
            "The model has 1,409 trainable parameters\n"
          ]
        }
      ]
    },
    {
      "cell_type": "markdown",
      "source": [
        "## Training the Model"
      ],
      "metadata": {
        "id": "BwJ4idCqheTn"
      }
    },
    {
      "cell_type": "code",
      "source": [
        "losses_train = []\n",
        "losses_test = []\n",
        "acc_train = []\n",
        "acc_test = []\n",
        "Iterations = []\n",
        "iter = 0\n",
        "for epoch in tqdm(range(int(epochs)),desc='Training Epochs'):\n",
        "    x = X_train\n",
        "    labels = y_train\n",
        "    optimizer.zero_grad() # Setting our stored gradients equal to zero\n",
        "    outputs = model(X_train)\n",
        "    loss = criterion(torch.squeeze(outputs), labels) # [200,1] -squeeze-> [200]\n",
        "    \n",
        "    loss.backward() # Computes the gradient of the given tensor w.r.t. graph leaves \n",
        "    \n",
        "    optimizer.step() # Updates weights and biases with the optimizer (SGD)\n",
        "    \n",
        "    iter+=1\n",
        "    # if iter%100==0:\n",
        "\n",
        "      # calculate Accuracy\n",
        "    with torch.no_grad():\n",
        "        # Calculating the loss and accuracy for the test dataset\n",
        "        correct_test = 0\n",
        "        total_test = 0\n",
        "        outputs_test = torch.squeeze(model(X_test))\n",
        "        loss_test = criterion(outputs_test, y_test)\n",
        "        \n",
        "        predicted_test = outputs_test.round().detach().numpy()\n",
        "        total_test = y_test.size(0)\n",
        "        correct_test = np.sum(predicted_test == y_test.detach().numpy())\n",
        "        accuracy_test = 100 * correct_test/total_test\n",
        "        losses_test.append(loss_test.item())\n",
        "        acc_test.append(accuracy_test)\n",
        "        \n",
        "        # Calculating the loss and accuracy for the train dataset\n",
        "        total = 0\n",
        "        correct = 0\n",
        "        total = y_train.size(0)\n",
        "        correct = np.sum(torch.squeeze(outputs).round().detach().numpy() == y_train.detach().numpy())\n",
        "        accuracy = 100 * correct/total\n",
        "        losses_train.append(loss.item())\n",
        "        acc_train.append(accuracy)\n",
        "        Iterations.append(iter)\n",
        "        \n",
        "        print(f\"Iteration: {iter}. \\nTest - Loss: {loss_test.item()}. Accuracy: {accuracy_test}\")\n",
        "        print(f\"Train -  Loss: {loss.item()}. Accuracy: {accuracy}\\n\")\n"
      ],
      "metadata": {
        "id": "dqybt3616KLU",
        "colab": {
          "base_uri": "https://localhost:8080/"
        },
        "outputId": "001b8da1-7c86-4275-bf81-1ad1c366604e"
      },
      "execution_count": null,
      "outputs": [
        {
          "output_type": "stream",
          "name": "stderr",
          "text": [
            "Training Epochs:  45%|████▌     | 90/200 [00:00<00:00, 445.71it/s]"
          ]
        },
        {
          "output_type": "stream",
          "name": "stdout",
          "text": [
            "Iteration: 1. \n",
            "Test - Loss: 0.7421408295631409. Accuracy: 43.421052631578945\n",
            "Train -  Loss: 0.7317360639572144. Accuracy: 46.833333333333336\n",
            "\n",
            "Iteration: 2. \n",
            "Test - Loss: 0.7406265139579773. Accuracy: 43.421052631578945\n",
            "Train -  Loss: 0.7305483818054199. Accuracy: 46.833333333333336\n",
            "\n",
            "Iteration: 3. \n",
            "Test - Loss: 0.7391524314880371. Accuracy: 43.421052631578945\n",
            "Train -  Loss: 0.7293952703475952. Accuracy: 46.166666666666664\n",
            "\n",
            "Iteration: 4. \n",
            "Test - Loss: 0.7377182841300964. Accuracy: 43.421052631578945\n",
            "Train -  Loss: 0.7282730340957642. Accuracy: 46.5\n",
            "\n",
            "Iteration: 5. \n",
            "Test - Loss: 0.7363225221633911. Accuracy: 43.421052631578945\n",
            "Train -  Loss: 0.7271842360496521. Accuracy: 46.333333333333336\n",
            "\n",
            "Iteration: 6. \n",
            "Test - Loss: 0.7349655032157898. Accuracy: 44.73684210526316\n",
            "Train -  Loss: 0.7261255979537964. Accuracy: 46.333333333333336\n",
            "\n",
            "Iteration: 7. \n",
            "Test - Loss: 0.7336438298225403. Accuracy: 46.05263157894737\n",
            "Train -  Loss: 0.7250910401344299. Accuracy: 46.333333333333336\n",
            "\n",
            "Iteration: 8. \n",
            "Test - Loss: 0.7323649525642395. Accuracy: 44.73684210526316\n",
            "Train -  Loss: 0.7240791320800781. Accuracy: 46.333333333333336\n",
            "\n",
            "Iteration: 9. \n",
            "Test - Loss: 0.7311175465583801. Accuracy: 44.73684210526316\n",
            "Train -  Loss: 0.7231015563011169. Accuracy: 46.333333333333336\n",
            "\n",
            "Iteration: 10. \n",
            "Test - Loss: 0.7298990488052368. Accuracy: 44.73684210526316\n",
            "Train -  Loss: 0.7221505641937256. Accuracy: 46.333333333333336\n",
            "\n",
            "Iteration: 11. \n",
            "Test - Loss: 0.7287139296531677. Accuracy: 46.05263157894737\n",
            "Train -  Loss: 0.721223771572113. Accuracy: 46.666666666666664\n",
            "\n",
            "Iteration: 12. \n",
            "Test - Loss: 0.7275601625442505. Accuracy: 46.05263157894737\n",
            "Train -  Loss: 0.7203232645988464. Accuracy: 46.666666666666664\n",
            "\n",
            "Iteration: 13. \n",
            "Test - Loss: 0.726431667804718. Accuracy: 46.05263157894737\n",
            "Train -  Loss: 0.7194457054138184. Accuracy: 47.333333333333336\n",
            "\n",
            "Iteration: 14. \n",
            "Test - Loss: 0.7253304719924927. Accuracy: 46.05263157894737\n",
            "Train -  Loss: 0.7185927629470825. Accuracy: 47.333333333333336\n",
            "\n",
            "Iteration: 15. \n",
            "Test - Loss: 0.7242597341537476. Accuracy: 46.05263157894737\n",
            "Train -  Loss: 0.7177652716636658. Accuracy: 47.5\n",
            "\n",
            "Iteration: 16. \n",
            "Test - Loss: 0.7232221364974976. Accuracy: 46.05263157894737\n",
            "Train -  Loss: 0.7169625163078308. Accuracy: 47.5\n",
            "\n",
            "Iteration: 17. \n",
            "Test - Loss: 0.7222253680229187. Accuracy: 47.36842105263158\n",
            "Train -  Loss: 0.7161847352981567. Accuracy: 47.333333333333336\n",
            "\n",
            "Iteration: 18. \n",
            "Test - Loss: 0.7212576270103455. Accuracy: 47.36842105263158\n",
            "Train -  Loss: 0.7154285311698914. Accuracy: 47.333333333333336\n",
            "\n",
            "Iteration: 19. \n",
            "Test - Loss: 0.720313549041748. Accuracy: 47.36842105263158\n",
            "Train -  Loss: 0.7146937251091003. Accuracy: 47.333333333333336\n",
            "\n",
            "Iteration: 20. \n",
            "Test - Loss: 0.7194005846977234. Accuracy: 47.36842105263158\n",
            "Train -  Loss: 0.713982343673706. Accuracy: 47.333333333333336\n",
            "\n",
            "Iteration: 21. \n",
            "Test - Loss: 0.718510091304779. Accuracy: 47.36842105263158\n",
            "Train -  Loss: 0.7132945656776428. Accuracy: 47.5\n",
            "\n",
            "Iteration: 22. \n",
            "Test - Loss: 0.7176396250724792. Accuracy: 47.36842105263158\n",
            "Train -  Loss: 0.7126283645629883. Accuracy: 47.5\n",
            "\n",
            "Iteration: 23. \n",
            "Test - Loss: 0.7167952656745911. Accuracy: 47.36842105263158\n",
            "Train -  Loss: 0.7119836211204529. Accuracy: 47.5\n",
            "\n",
            "Iteration: 24. \n",
            "Test - Loss: 0.7159733176231384. Accuracy: 47.36842105263158\n",
            "Train -  Loss: 0.7113580107688904. Accuracy: 47.5\n",
            "\n",
            "Iteration: 25. \n",
            "Test - Loss: 0.7151703834533691. Accuracy: 47.36842105263158\n",
            "Train -  Loss: 0.7107468247413635. Accuracy: 47.5\n",
            "\n",
            "Iteration: 26. \n",
            "Test - Loss: 0.7143893241882324. Accuracy: 47.36842105263158\n",
            "Train -  Loss: 0.7101542353630066. Accuracy: 47.5\n",
            "\n",
            "Iteration: 27. \n",
            "Test - Loss: 0.7136276364326477. Accuracy: 47.36842105263158\n",
            "Train -  Loss: 0.7095747590065002. Accuracy: 47.333333333333336\n",
            "\n",
            "Iteration: 28. \n",
            "Test - Loss: 0.7128850817680359. Accuracy: 47.36842105263158\n",
            "Train -  Loss: 0.7090110182762146. Accuracy: 47.333333333333336\n",
            "\n",
            "Iteration: 29. \n",
            "Test - Loss: 0.7121613025665283. Accuracy: 47.36842105263158\n",
            "Train -  Loss: 0.7084630131721497. Accuracy: 47.5\n",
            "\n",
            "Iteration: 30. \n",
            "Test - Loss: 0.7114526629447937. Accuracy: 47.36842105263158\n",
            "Train -  Loss: 0.7079318165779114. Accuracy: 47.5\n",
            "\n",
            "Iteration: 31. \n",
            "Test - Loss: 0.7107605934143066. Accuracy: 47.36842105263158\n",
            "Train -  Loss: 0.7074158191680908. Accuracy: 47.333333333333336\n",
            "\n",
            "Iteration: 32. \n",
            "Test - Loss: 0.7100886106491089. Accuracy: 48.68421052631579\n",
            "Train -  Loss: 0.7069132328033447. Accuracy: 47.166666666666664\n",
            "\n",
            "Iteration: 33. \n",
            "Test - Loss: 0.7094303965568542. Accuracy: 48.68421052631579\n",
            "Train -  Loss: 0.7064262628555298. Accuracy: 47.166666666666664\n",
            "\n",
            "Iteration: 34. \n",
            "Test - Loss: 0.7087872624397278. Accuracy: 48.68421052631579\n",
            "Train -  Loss: 0.7059533596038818. Accuracy: 47.333333333333336\n",
            "\n",
            "Iteration: 35. \n",
            "Test - Loss: 0.708159863948822. Accuracy: 48.68421052631579\n",
            "Train -  Loss: 0.7054925560951233. Accuracy: 47.5\n",
            "\n",
            "Iteration: 36. \n",
            "Test - Loss: 0.7075512409210205. Accuracy: 48.68421052631579\n",
            "Train -  Loss: 0.7050442099571228. Accuracy: 47.5\n",
            "\n",
            "Iteration: 37. \n",
            "Test - Loss: 0.7069570422172546. Accuracy: 48.68421052631579\n",
            "Train -  Loss: 0.7046076655387878. Accuracy: 47.5\n",
            "\n",
            "Iteration: 38. \n",
            "Test - Loss: 0.7063770294189453. Accuracy: 48.68421052631579\n",
            "Train -  Loss: 0.704182505607605. Accuracy: 47.833333333333336\n",
            "\n",
            "Iteration: 39. \n",
            "Test - Loss: 0.7058117985725403. Accuracy: 48.68421052631579\n",
            "Train -  Loss: 0.7037677764892578. Accuracy: 48.166666666666664\n",
            "\n",
            "Iteration: 40. \n",
            "Test - Loss: 0.7052605748176575. Accuracy: 47.36842105263158\n",
            "Train -  Loss: 0.7033641338348389. Accuracy: 48.333333333333336\n",
            "\n",
            "Iteration: 41. \n",
            "Test - Loss: 0.7047224044799805. Accuracy: 47.36842105263158\n",
            "Train -  Loss: 0.7029716968536377. Accuracy: 48.666666666666664\n",
            "\n",
            "Iteration: 42. \n",
            "Test - Loss: 0.7041984796524048. Accuracy: 47.36842105263158\n",
            "Train -  Loss: 0.7025905847549438. Accuracy: 49.0\n",
            "\n",
            "Iteration: 43. \n",
            "Test - Loss: 0.7036885023117065. Accuracy: 47.36842105263158\n",
            "Train -  Loss: 0.7022187113761902. Accuracy: 49.166666666666664\n",
            "\n",
            "Iteration: 44. \n",
            "Test - Loss: 0.7031904458999634. Accuracy: 47.36842105263158\n",
            "Train -  Loss: 0.7018566131591797. Accuracy: 49.333333333333336\n",
            "\n",
            "Iteration: 45. \n",
            "Test - Loss: 0.7027027606964111. Accuracy: 50.0\n",
            "Train -  Loss: 0.7015019655227661. Accuracy: 49.166666666666664\n",
            "\n",
            "Iteration: 46. \n",
            "Test - Loss: 0.7022306323051453. Accuracy: 50.0\n",
            "Train -  Loss: 0.7011574506759644. Accuracy: 48.833333333333336\n",
            "\n",
            "Iteration: 47. \n",
            "Test - Loss: 0.7017696499824524. Accuracy: 51.31578947368421\n",
            "Train -  Loss: 0.7008235454559326. Accuracy: 48.666666666666664\n",
            "\n",
            "Iteration: 48. \n",
            "Test - Loss: 0.7013132572174072. Accuracy: 51.31578947368421\n",
            "Train -  Loss: 0.7004970908164978. Accuracy: 48.833333333333336\n",
            "\n",
            "Iteration: 49. \n",
            "Test - Loss: 0.7008695006370544. Accuracy: 51.31578947368421\n",
            "Train -  Loss: 0.7001768350601196. Accuracy: 48.5\n",
            "\n",
            "Iteration: 50. \n",
            "Test - Loss: 0.7004338502883911. Accuracy: 50.0\n",
            "Train -  Loss: 0.6998649835586548. Accuracy: 48.666666666666664\n",
            "\n",
            "Iteration: 51. \n",
            "Test - Loss: 0.7000088691711426. Accuracy: 50.0\n",
            "Train -  Loss: 0.6995614767074585. Accuracy: 48.333333333333336\n",
            "\n",
            "Iteration: 52. \n",
            "Test - Loss: 0.6995956301689148. Accuracy: 48.68421052631579\n",
            "Train -  Loss: 0.6992654204368591. Accuracy: 49.0\n",
            "\n",
            "Iteration: 53. \n",
            "Test - Loss: 0.6991928219795227. Accuracy: 48.68421052631579\n",
            "Train -  Loss: 0.6989750266075134. Accuracy: 48.833333333333336\n",
            "\n",
            "Iteration: 54. \n",
            "Test - Loss: 0.6988009810447693. Accuracy: 50.0\n",
            "Train -  Loss: 0.6986926198005676. Accuracy: 49.0\n",
            "\n",
            "Iteration: 55. \n",
            "Test - Loss: 0.6984149813652039. Accuracy: 50.0\n",
            "Train -  Loss: 0.6984164118766785. Accuracy: 49.166666666666664\n",
            "\n",
            "Iteration: 56. \n",
            "Test - Loss: 0.6980385780334473. Accuracy: 50.0\n",
            "Train -  Loss: 0.6981471180915833. Accuracy: 49.666666666666664\n",
            "\n",
            "Iteration: 57. \n",
            "Test - Loss: 0.6976692080497742. Accuracy: 51.31578947368421\n",
            "Train -  Loss: 0.6978843212127686. Accuracy: 50.0\n",
            "\n",
            "Iteration: 58. \n",
            "Test - Loss: 0.697309136390686. Accuracy: 51.31578947368421\n",
            "Train -  Loss: 0.6976265907287598. Accuracy: 50.333333333333336\n",
            "\n",
            "Iteration: 59. \n",
            "Test - Loss: 0.6969592571258545. Accuracy: 50.0\n",
            "Train -  Loss: 0.6973720788955688. Accuracy: 50.5\n",
            "\n",
            "Iteration: 60. \n",
            "Test - Loss: 0.6966149806976318. Accuracy: 50.0\n",
            "Train -  Loss: 0.6971237659454346. Accuracy: 50.666666666666664\n",
            "\n",
            "Iteration: 61. \n",
            "Test - Loss: 0.6962786316871643. Accuracy: 50.0\n",
            "Train -  Loss: 0.6968806982040405. Accuracy: 50.0\n",
            "\n",
            "Iteration: 62. \n",
            "Test - Loss: 0.695949912071228. Accuracy: 50.0\n",
            "Train -  Loss: 0.696643590927124. Accuracy: 49.833333333333336\n",
            "\n",
            "Iteration: 63. \n",
            "Test - Loss: 0.6956281661987305. Accuracy: 50.0\n",
            "Train -  Loss: 0.6964143514633179. Accuracy: 50.166666666666664\n",
            "\n",
            "Iteration: 64. \n",
            "Test - Loss: 0.6953125596046448. Accuracy: 50.0\n",
            "Train -  Loss: 0.6961910724639893. Accuracy: 50.333333333333336\n",
            "\n",
            "Iteration: 65. \n",
            "Test - Loss: 0.6950036287307739. Accuracy: 50.0\n",
            "Train -  Loss: 0.6959735155105591. Accuracy: 50.333333333333336\n",
            "\n",
            "Iteration: 66. \n",
            "Test - Loss: 0.6947007179260254. Accuracy: 48.68421052631579\n",
            "Train -  Loss: 0.6957611441612244. Accuracy: 50.166666666666664\n",
            "\n",
            "Iteration: 67. \n",
            "Test - Loss: 0.6944032311439514. Accuracy: 48.68421052631579\n",
            "Train -  Loss: 0.6955536007881165. Accuracy: 50.333333333333336\n",
            "\n",
            "Iteration: 68. \n",
            "Test - Loss: 0.6941101551055908. Accuracy: 50.0\n",
            "Train -  Loss: 0.6953520178794861. Accuracy: 49.833333333333336\n",
            "\n",
            "Iteration: 69. \n",
            "Test - Loss: 0.6938226222991943. Accuracy: 51.31578947368421\n",
            "Train -  Loss: 0.6951554417610168. Accuracy: 49.666666666666664\n",
            "\n",
            "Iteration: 70. \n",
            "Test - Loss: 0.6935363411903381. Accuracy: 51.31578947368421\n",
            "Train -  Loss: 0.6949639916419983. Accuracy: 50.5\n",
            "\n",
            "Iteration: 71. \n",
            "Test - Loss: 0.6932554841041565. Accuracy: 51.31578947368421\n",
            "Train -  Loss: 0.6947776079177856. Accuracy: 50.166666666666664\n",
            "\n",
            "Iteration: 72. \n",
            "Test - Loss: 0.6929777264595032. Accuracy: 52.63157894736842\n",
            "Train -  Loss: 0.6945962309837341. Accuracy: 50.333333333333336\n",
            "\n",
            "Iteration: 73. \n",
            "Test - Loss: 0.6927053332328796. Accuracy: 52.63157894736842\n",
            "Train -  Loss: 0.6944192051887512. Accuracy: 50.666666666666664\n",
            "\n",
            "Iteration: 74. \n",
            "Test - Loss: 0.6924390196800232. Accuracy: 52.63157894736842\n",
            "Train -  Loss: 0.6942459344863892. Accuracy: 51.166666666666664\n",
            "\n",
            "Iteration: 75. \n",
            "Test - Loss: 0.6921797394752502. Accuracy: 53.94736842105263\n",
            "Train -  Loss: 0.6940771341323853. Accuracy: 51.333333333333336\n",
            "\n",
            "Iteration: 76. \n",
            "Test - Loss: 0.6919255256652832. Accuracy: 53.94736842105263\n",
            "Train -  Loss: 0.6939130425453186. Accuracy: 51.0\n",
            "\n",
            "Iteration: 77. \n",
            "Test - Loss: 0.691678524017334. Accuracy: 53.94736842105263\n",
            "Train -  Loss: 0.693752110004425. Accuracy: 51.0\n",
            "\n",
            "Iteration: 78. \n",
            "Test - Loss: 0.6914320588111877. Accuracy: 55.26315789473684\n",
            "Train -  Loss: 0.6935949921607971. Accuracy: 51.333333333333336\n",
            "\n",
            "Iteration: 79. \n",
            "Test - Loss: 0.6911923885345459. Accuracy: 55.26315789473684\n",
            "Train -  Loss: 0.693443238735199. Accuracy: 51.166666666666664\n",
            "\n",
            "Iteration: 80. \n",
            "Test - Loss: 0.6909547448158264. Accuracy: 55.26315789473684\n",
            "Train -  Loss: 0.6932952404022217. Accuracy: 51.5\n",
            "\n",
            "Iteration: 81. \n",
            "Test - Loss: 0.6907223463058472. Accuracy: 53.94736842105263\n",
            "Train -  Loss: 0.6931508779525757. Accuracy: 52.0\n",
            "\n",
            "Iteration: 82. \n",
            "Test - Loss: 0.6904938817024231. Accuracy: 55.26315789473684\n",
            "Train -  Loss: 0.6930097937583923. Accuracy: 52.333333333333336\n",
            "\n",
            "Iteration: 83. \n",
            "Test - Loss: 0.6902697086334229. Accuracy: 55.26315789473684\n",
            "Train -  Loss: 0.6928724050521851. Accuracy: 52.166666666666664\n",
            "\n",
            "Iteration: 84. \n",
            "Test - Loss: 0.6900520920753479. Accuracy: 55.26315789473684\n",
            "Train -  Loss: 0.6927386522293091. Accuracy: 51.666666666666664\n",
            "\n",
            "Iteration: 85. \n",
            "Test - Loss: 0.6898375749588013. Accuracy: 53.94736842105263\n",
            "Train -  Loss: 0.6926077008247375. Accuracy: 51.5\n",
            "\n",
            "Iteration: 86. \n",
            "Test - Loss: 0.68962562084198. Accuracy: 53.94736842105263\n",
            "Train -  Loss: 0.6924796104431152. Accuracy: 51.333333333333336\n",
            "\n",
            "Iteration: 87. \n",
            "Test - Loss: 0.6894187331199646. Accuracy: 53.94736842105263\n",
            "Train -  Loss: 0.6923536658287048. Accuracy: 51.5\n",
            "\n",
            "Iteration: 88. \n",
            "Test - Loss: 0.6892145872116089. Accuracy: 53.94736842105263\n",
            "Train -  Loss: 0.6922299265861511. Accuracy: 52.333333333333336\n",
            "\n",
            "Iteration: 89. \n",
            "Test - Loss: 0.689016580581665. Accuracy: 53.94736842105263\n",
            "Train -  Loss: 0.6921089887619019. Accuracy: 52.666666666666664\n",
            "\n",
            "Iteration: 90. \n",
            "Test - Loss: 0.6888250112533569. Accuracy: 52.63157894736842\n",
            "Train -  Loss: 0.691990077495575. Accuracy: 53.0\n",
            "\n",
            "Iteration: 91. \n",
            "Test - Loss: 0.6886371374130249. Accuracy: 53.94736842105263\n",
            "Train -  Loss: 0.6918729543685913. Accuracy: 53.166666666666664\n",
            "\n"
          ]
        },
        {
          "output_type": "stream",
          "name": "stderr",
          "text": [
            "Training Epochs:  91%|█████████ | 182/200 [00:00<00:00, 445.74it/s]"
          ]
        },
        {
          "output_type": "stream",
          "name": "stdout",
          "text": [
            "Iteration: 92. \n",
            "Test - Loss: 0.6884528994560242. Accuracy: 53.94736842105263\n",
            "Train -  Loss: 0.6917570233345032. Accuracy: 53.333333333333336\n",
            "\n",
            "Iteration: 93. \n",
            "Test - Loss: 0.6882731914520264. Accuracy: 53.94736842105263\n",
            "Train -  Loss: 0.6916432976722717. Accuracy: 53.5\n",
            "\n",
            "Iteration: 94. \n",
            "Test - Loss: 0.6880971193313599. Accuracy: 53.94736842105263\n",
            "Train -  Loss: 0.691531777381897. Accuracy: 53.333333333333336\n",
            "\n",
            "Iteration: 95. \n",
            "Test - Loss: 0.6879241466522217. Accuracy: 53.94736842105263\n",
            "Train -  Loss: 0.6914215087890625. Accuracy: 53.166666666666664\n",
            "\n",
            "Iteration: 96. \n",
            "Test - Loss: 0.6877550482749939. Accuracy: 53.94736842105263\n",
            "Train -  Loss: 0.6913139224052429. Accuracy: 53.166666666666664\n",
            "\n",
            "Iteration: 97. \n",
            "Test - Loss: 0.687589168548584. Accuracy: 51.31578947368421\n",
            "Train -  Loss: 0.6912087202072144. Accuracy: 53.166666666666664\n",
            "\n",
            "Iteration: 98. \n",
            "Test - Loss: 0.6874238848686218. Accuracy: 51.31578947368421\n",
            "Train -  Loss: 0.6911057829856873. Accuracy: 53.166666666666664\n",
            "\n",
            "Iteration: 99. \n",
            "Test - Loss: 0.6872599720954895. Accuracy: 51.31578947368421\n",
            "Train -  Loss: 0.6910049915313721. Accuracy: 53.166666666666664\n",
            "\n",
            "Iteration: 100. \n",
            "Test - Loss: 0.6871031522750854. Accuracy: 51.31578947368421\n",
            "Train -  Loss: 0.6909059286117554. Accuracy: 53.0\n",
            "\n",
            "Iteration: 101. \n",
            "Test - Loss: 0.6869460940361023. Accuracy: 51.31578947368421\n",
            "Train -  Loss: 0.6908084750175476. Accuracy: 52.5\n",
            "\n",
            "Iteration: 102. \n",
            "Test - Loss: 0.6867906451225281. Accuracy: 51.31578947368421\n",
            "Train -  Loss: 0.6907132863998413. Accuracy: 52.833333333333336\n",
            "\n",
            "Iteration: 103. \n",
            "Test - Loss: 0.686639130115509. Accuracy: 52.63157894736842\n",
            "Train -  Loss: 0.6906198859214783. Accuracy: 53.0\n",
            "\n",
            "Iteration: 104. \n",
            "Test - Loss: 0.6864935755729675. Accuracy: 52.63157894736842\n",
            "Train -  Loss: 0.6905278563499451. Accuracy: 53.0\n",
            "\n",
            "Iteration: 105. \n",
            "Test - Loss: 0.6863481402397156. Accuracy: 52.63157894736842\n",
            "Train -  Loss: 0.6904375553131104. Accuracy: 53.166666666666664\n",
            "\n",
            "Iteration: 106. \n",
            "Test - Loss: 0.6862043738365173. Accuracy: 56.578947368421055\n",
            "Train -  Loss: 0.6903488039970398. Accuracy: 52.833333333333336\n",
            "\n",
            "Iteration: 107. \n",
            "Test - Loss: 0.6860659718513489. Accuracy: 56.578947368421055\n",
            "Train -  Loss: 0.6902609467506409. Accuracy: 52.833333333333336\n",
            "\n",
            "Iteration: 108. \n",
            "Test - Loss: 0.6859260201454163. Accuracy: 56.578947368421055\n",
            "Train -  Loss: 0.69017493724823. Accuracy: 52.666666666666664\n",
            "\n",
            "Iteration: 109. \n",
            "Test - Loss: 0.6857901215553284. Accuracy: 56.578947368421055\n",
            "Train -  Loss: 0.690090000629425. Accuracy: 53.0\n",
            "\n",
            "Iteration: 110. \n",
            "Test - Loss: 0.6856614947319031. Accuracy: 56.578947368421055\n",
            "Train -  Loss: 0.6900057792663574. Accuracy: 52.833333333333336\n",
            "\n",
            "Iteration: 111. \n",
            "Test - Loss: 0.685530960559845. Accuracy: 56.578947368421055\n",
            "Train -  Loss: 0.689922034740448. Accuracy: 53.166666666666664\n",
            "\n",
            "Iteration: 112. \n",
            "Test - Loss: 0.6854060292243958. Accuracy: 56.578947368421055\n",
            "Train -  Loss: 0.6898390650749207. Accuracy: 53.166666666666664\n",
            "\n",
            "Iteration: 113. \n",
            "Test - Loss: 0.6852787733078003. Accuracy: 55.26315789473684\n",
            "Train -  Loss: 0.6897573471069336. Accuracy: 53.666666666666664\n",
            "\n",
            "Iteration: 114. \n",
            "Test - Loss: 0.6851564049720764. Accuracy: 55.26315789473684\n",
            "Train -  Loss: 0.6896764636039734. Accuracy: 53.666666666666664\n",
            "\n",
            "Iteration: 115. \n",
            "Test - Loss: 0.6850327849388123. Accuracy: 55.26315789473684\n",
            "Train -  Loss: 0.6895968914031982. Accuracy: 53.833333333333336\n",
            "\n",
            "Iteration: 116. \n",
            "Test - Loss: 0.6849135160446167. Accuracy: 55.26315789473684\n",
            "Train -  Loss: 0.6895186901092529. Accuracy: 54.0\n",
            "\n",
            "Iteration: 117. \n",
            "Test - Loss: 0.6847936511039734. Accuracy: 55.26315789473684\n",
            "Train -  Loss: 0.6894415020942688. Accuracy: 54.166666666666664\n",
            "\n",
            "Iteration: 118. \n",
            "Test - Loss: 0.684675395488739. Accuracy: 55.26315789473684\n",
            "Train -  Loss: 0.6893655061721802. Accuracy: 54.166666666666664\n",
            "\n",
            "Iteration: 119. \n",
            "Test - Loss: 0.6845586895942688. Accuracy: 55.26315789473684\n",
            "Train -  Loss: 0.6892914175987244. Accuracy: 54.333333333333336\n",
            "\n",
            "Iteration: 120. \n",
            "Test - Loss: 0.684443473815918. Accuracy: 56.578947368421055\n",
            "Train -  Loss: 0.6892186403274536. Accuracy: 54.5\n",
            "\n",
            "Iteration: 121. \n",
            "Test - Loss: 0.6843294501304626. Accuracy: 56.578947368421055\n",
            "Train -  Loss: 0.6891469955444336. Accuracy: 54.166666666666664\n",
            "\n",
            "Iteration: 122. \n",
            "Test - Loss: 0.6842153072357178. Accuracy: 56.578947368421055\n",
            "Train -  Loss: 0.6890767812728882. Accuracy: 54.333333333333336\n",
            "\n",
            "Iteration: 123. \n",
            "Test - Loss: 0.6841027140617371. Accuracy: 56.578947368421055\n",
            "Train -  Loss: 0.6890076398849487. Accuracy: 54.166666666666664\n",
            "\n",
            "Iteration: 124. \n",
            "Test - Loss: 0.683992326259613. Accuracy: 56.578947368421055\n",
            "Train -  Loss: 0.6889390349388123. Accuracy: 54.166666666666664\n",
            "\n",
            "Iteration: 125. \n",
            "Test - Loss: 0.6838825345039368. Accuracy: 57.89473684210526\n",
            "Train -  Loss: 0.6888707280158997. Accuracy: 54.166666666666664\n",
            "\n",
            "Iteration: 126. \n",
            "Test - Loss: 0.6837741732597351. Accuracy: 57.89473684210526\n",
            "Train -  Loss: 0.6888041496276855. Accuracy: 54.333333333333336\n",
            "\n",
            "Iteration: 127. \n",
            "Test - Loss: 0.6836669445037842. Accuracy: 57.89473684210526\n",
            "Train -  Loss: 0.6887387037277222. Accuracy: 54.166666666666664\n",
            "\n",
            "Iteration: 128. \n",
            "Test - Loss: 0.6835601925849915. Accuracy: 57.89473684210526\n",
            "Train -  Loss: 0.6886733174324036. Accuracy: 54.166666666666664\n",
            "\n",
            "Iteration: 129. \n",
            "Test - Loss: 0.6834562420845032. Accuracy: 57.89473684210526\n",
            "Train -  Loss: 0.6886085867881775. Accuracy: 54.333333333333336\n",
            "\n",
            "Iteration: 130. \n",
            "Test - Loss: 0.6833540201187134. Accuracy: 56.578947368421055\n",
            "Train -  Loss: 0.6885450482368469. Accuracy: 54.333333333333336\n",
            "\n",
            "Iteration: 131. \n",
            "Test - Loss: 0.6832523345947266. Accuracy: 56.578947368421055\n",
            "Train -  Loss: 0.688482403755188. Accuracy: 54.833333333333336\n",
            "\n",
            "Iteration: 132. \n",
            "Test - Loss: 0.6831533908843994. Accuracy: 56.578947368421055\n",
            "Train -  Loss: 0.6884207725524902. Accuracy: 55.166666666666664\n",
            "\n",
            "Iteration: 133. \n",
            "Test - Loss: 0.6830562949180603. Accuracy: 56.578947368421055\n",
            "Train -  Loss: 0.6883594989776611. Accuracy: 55.166666666666664\n",
            "\n",
            "Iteration: 134. \n",
            "Test - Loss: 0.682960569858551. Accuracy: 56.578947368421055\n",
            "Train -  Loss: 0.6882982850074768. Accuracy: 55.166666666666664\n",
            "\n",
            "Iteration: 135. \n",
            "Test - Loss: 0.6828646659851074. Accuracy: 56.578947368421055\n",
            "Train -  Loss: 0.6882381439208984. Accuracy: 55.0\n",
            "\n",
            "Iteration: 136. \n",
            "Test - Loss: 0.6827717423439026. Accuracy: 56.578947368421055\n",
            "Train -  Loss: 0.6881787180900574. Accuracy: 54.666666666666664\n",
            "\n",
            "Iteration: 137. \n",
            "Test - Loss: 0.6826797723770142. Accuracy: 56.578947368421055\n",
            "Train -  Loss: 0.6881200075149536. Accuracy: 54.666666666666664\n",
            "\n",
            "Iteration: 138. \n",
            "Test - Loss: 0.6825887560844421. Accuracy: 56.578947368421055\n",
            "Train -  Loss: 0.6880612373352051. Accuracy: 55.0\n",
            "\n",
            "Iteration: 139. \n",
            "Test - Loss: 0.6824999451637268. Accuracy: 56.578947368421055\n",
            "Train -  Loss: 0.688003420829773. Accuracy: 55.0\n",
            "\n",
            "Iteration: 140. \n",
            "Test - Loss: 0.68241286277771. Accuracy: 56.578947368421055\n",
            "Train -  Loss: 0.687946081161499. Accuracy: 54.833333333333336\n",
            "\n",
            "Iteration: 141. \n",
            "Test - Loss: 0.6823276877403259. Accuracy: 56.578947368421055\n",
            "Train -  Loss: 0.6878872513771057. Accuracy: 54.666666666666664\n",
            "\n",
            "Iteration: 142. \n",
            "Test - Loss: 0.682243824005127. Accuracy: 56.578947368421055\n",
            "Train -  Loss: 0.6878302097320557. Accuracy: 54.5\n",
            "\n",
            "Iteration: 143. \n",
            "Test - Loss: 0.682161271572113. Accuracy: 56.578947368421055\n",
            "Train -  Loss: 0.6877736449241638. Accuracy: 54.666666666666664\n",
            "\n",
            "Iteration: 144. \n",
            "Test - Loss: 0.6820799708366394. Accuracy: 56.578947368421055\n",
            "Train -  Loss: 0.6877186298370361. Accuracy: 54.666666666666664\n",
            "\n",
            "Iteration: 145. \n",
            "Test - Loss: 0.6819984912872314. Accuracy: 56.578947368421055\n",
            "Train -  Loss: 0.687663733959198. Accuracy: 54.833333333333336\n",
            "\n",
            "Iteration: 146. \n",
            "Test - Loss: 0.6819186210632324. Accuracy: 55.26315789473684\n",
            "Train -  Loss: 0.6876081228256226. Accuracy: 54.666666666666664\n",
            "\n",
            "Iteration: 147. \n",
            "Test - Loss: 0.6818385720252991. Accuracy: 55.26315789473684\n",
            "Train -  Loss: 0.6875532269477844. Accuracy: 54.666666666666664\n",
            "\n",
            "Iteration: 148. \n",
            "Test - Loss: 0.6817598342895508. Accuracy: 55.26315789473684\n",
            "Train -  Loss: 0.6874988079071045. Accuracy: 54.333333333333336\n",
            "\n",
            "Iteration: 149. \n",
            "Test - Loss: 0.6816805005073547. Accuracy: 55.26315789473684\n",
            "Train -  Loss: 0.6874456405639648. Accuracy: 54.666666666666664\n",
            "\n",
            "Iteration: 150. \n",
            "Test - Loss: 0.6816022992134094. Accuracy: 55.26315789473684\n",
            "Train -  Loss: 0.6873924136161804. Accuracy: 54.833333333333336\n",
            "\n",
            "Iteration: 151. \n",
            "Test - Loss: 0.681525707244873. Accuracy: 53.94736842105263\n",
            "Train -  Loss: 0.6873401403427124. Accuracy: 54.833333333333336\n",
            "\n",
            "Iteration: 152. \n",
            "Test - Loss: 0.6814497709274292. Accuracy: 53.94736842105263\n",
            "Train -  Loss: 0.6872887015342712. Accuracy: 55.166666666666664\n",
            "\n",
            "Iteration: 153. \n",
            "Test - Loss: 0.6813750267028809. Accuracy: 53.94736842105263\n",
            "Train -  Loss: 0.6872379183769226. Accuracy: 55.5\n",
            "\n",
            "Iteration: 154. \n",
            "Test - Loss: 0.6813024878501892. Accuracy: 55.26315789473684\n",
            "Train -  Loss: 0.6871885061264038. Accuracy: 55.333333333333336\n",
            "\n",
            "Iteration: 155. \n",
            "Test - Loss: 0.6812301874160767. Accuracy: 55.26315789473684\n",
            "Train -  Loss: 0.6871402263641357. Accuracy: 55.166666666666664\n",
            "\n",
            "Iteration: 156. \n",
            "Test - Loss: 0.6811597347259521. Accuracy: 55.26315789473684\n",
            "Train -  Loss: 0.6870921850204468. Accuracy: 55.0\n",
            "\n",
            "Iteration: 157. \n",
            "Test - Loss: 0.6810895800590515. Accuracy: 55.26315789473684\n",
            "Train -  Loss: 0.687045156955719. Accuracy: 55.0\n",
            "\n",
            "Iteration: 158. \n",
            "Test - Loss: 0.6810193657875061. Accuracy: 55.26315789473684\n",
            "Train -  Loss: 0.6869996190071106. Accuracy: 55.333333333333336\n",
            "\n",
            "Iteration: 159. \n",
            "Test - Loss: 0.6809490919113159. Accuracy: 55.26315789473684\n",
            "Train -  Loss: 0.6869543194770813. Accuracy: 55.333333333333336\n",
            "\n",
            "Iteration: 160. \n",
            "Test - Loss: 0.6808776259422302. Accuracy: 55.26315789473684\n",
            "Train -  Loss: 0.6869093179702759. Accuracy: 55.166666666666664\n",
            "\n",
            "Iteration: 161. \n",
            "Test - Loss: 0.680806577205658. Accuracy: 55.26315789473684\n",
            "Train -  Loss: 0.6868650913238525. Accuracy: 55.166666666666664\n",
            "\n",
            "Iteration: 162. \n",
            "Test - Loss: 0.6807351112365723. Accuracy: 55.26315789473684\n",
            "Train -  Loss: 0.6868215203285217. Accuracy: 55.333333333333336\n",
            "\n",
            "Iteration: 163. \n",
            "Test - Loss: 0.6806663870811462. Accuracy: 55.26315789473684\n",
            "Train -  Loss: 0.6867773532867432. Accuracy: 55.333333333333336\n",
            "\n",
            "Iteration: 164. \n",
            "Test - Loss: 0.6805965304374695. Accuracy: 55.26315789473684\n",
            "Train -  Loss: 0.6867331266403198. Accuracy: 55.333333333333336\n",
            "\n",
            "Iteration: 165. \n",
            "Test - Loss: 0.6805293560028076. Accuracy: 55.26315789473684\n",
            "Train -  Loss: 0.6866897344589233. Accuracy: 55.333333333333336\n",
            "\n",
            "Iteration: 166. \n",
            "Test - Loss: 0.6804617643356323. Accuracy: 55.26315789473684\n",
            "Train -  Loss: 0.686646580696106. Accuracy: 55.166666666666664\n",
            "\n",
            "Iteration: 167. \n",
            "Test - Loss: 0.6803945302963257. Accuracy: 55.26315789473684\n",
            "Train -  Loss: 0.6866044402122498. Accuracy: 55.5\n",
            "\n",
            "Iteration: 168. \n",
            "Test - Loss: 0.6803231835365295. Accuracy: 55.26315789473684\n",
            "Train -  Loss: 0.6865626573562622. Accuracy: 55.5\n",
            "\n",
            "Iteration: 169. \n",
            "Test - Loss: 0.6802548170089722. Accuracy: 55.26315789473684\n",
            "Train -  Loss: 0.686521589756012. Accuracy: 55.5\n",
            "\n",
            "Iteration: 170. \n",
            "Test - Loss: 0.6801853179931641. Accuracy: 55.26315789473684\n",
            "Train -  Loss: 0.6864806413650513. Accuracy: 55.5\n",
            "\n",
            "Iteration: 171. \n",
            "Test - Loss: 0.6801186800003052. Accuracy: 55.26315789473684\n",
            "Train -  Loss: 0.6864401698112488. Accuracy: 55.5\n",
            "\n",
            "Iteration: 172. \n",
            "Test - Loss: 0.6800511479377747. Accuracy: 55.26315789473684\n",
            "Train -  Loss: 0.6864001750946045. Accuracy: 55.5\n",
            "\n",
            "Iteration: 173. \n",
            "Test - Loss: 0.6799862384796143. Accuracy: 55.26315789473684\n",
            "Train -  Loss: 0.6863601207733154. Accuracy: 55.5\n",
            "\n",
            "Iteration: 174. \n",
            "Test - Loss: 0.6799202561378479. Accuracy: 55.26315789473684\n",
            "Train -  Loss: 0.6863209009170532. Accuracy: 55.666666666666664\n",
            "\n",
            "Iteration: 175. \n",
            "Test - Loss: 0.6798572540283203. Accuracy: 55.26315789473684\n",
            "Train -  Loss: 0.6862815618515015. Accuracy: 55.666666666666664\n",
            "\n",
            "Iteration: 176. \n",
            "Test - Loss: 0.6797957420349121. Accuracy: 55.26315789473684\n",
            "Train -  Loss: 0.686242401599884. Accuracy: 55.833333333333336\n",
            "\n",
            "Iteration: 177. \n",
            "Test - Loss: 0.6797378659248352. Accuracy: 55.26315789473684\n",
            "Train -  Loss: 0.6862034201622009. Accuracy: 55.833333333333336\n",
            "\n",
            "Iteration: 178. \n",
            "Test - Loss: 0.6796781420707703. Accuracy: 56.578947368421055\n",
            "Train -  Loss: 0.6861653923988342. Accuracy: 55.666666666666664\n",
            "\n",
            "Iteration: 179. \n",
            "Test - Loss: 0.6796215772628784. Accuracy: 56.578947368421055\n",
            "Train -  Loss: 0.6861279010772705. Accuracy: 55.666666666666664\n",
            "\n",
            "Iteration: 180. \n",
            "Test - Loss: 0.6795629858970642. Accuracy: 56.578947368421055\n",
            "Train -  Loss: 0.6860911250114441. Accuracy: 55.833333333333336\n",
            "\n",
            "Iteration: 181. \n",
            "Test - Loss: 0.6795088052749634. Accuracy: 56.578947368421055\n",
            "Train -  Loss: 0.6860547661781311. Accuracy: 55.833333333333336\n",
            "\n",
            "Iteration: 182. \n",
            "Test - Loss: 0.679451584815979. Accuracy: 56.578947368421055\n",
            "Train -  Loss: 0.6860190033912659. Accuracy: 56.0\n",
            "\n"
          ]
        },
        {
          "output_type": "stream",
          "name": "stderr",
          "text": [
            "\rTraining Epochs: 100%|██████████| 200/200 [00:00<00:00, 439.21it/s]"
          ]
        },
        {
          "output_type": "stream",
          "name": "stdout",
          "text": [
            "Iteration: 183. \n",
            "Test - Loss: 0.6793948411941528. Accuracy: 56.578947368421055\n",
            "Train -  Loss: 0.6859825253486633. Accuracy: 56.0\n",
            "\n",
            "Iteration: 184. \n",
            "Test - Loss: 0.6793422102928162. Accuracy: 56.578947368421055\n",
            "Train -  Loss: 0.6859471797943115. Accuracy: 56.0\n",
            "\n",
            "Iteration: 185. \n",
            "Test - Loss: 0.6792855858802795. Accuracy: 56.578947368421055\n",
            "Train -  Loss: 0.6859128475189209. Accuracy: 56.0\n",
            "\n",
            "Iteration: 186. \n",
            "Test - Loss: 0.6792289614677429. Accuracy: 56.578947368421055\n",
            "Train -  Loss: 0.6858779788017273. Accuracy: 56.0\n",
            "\n",
            "Iteration: 187. \n",
            "Test - Loss: 0.6791741847991943. Accuracy: 56.578947368421055\n",
            "Train -  Loss: 0.6858439445495605. Accuracy: 56.0\n",
            "\n",
            "Iteration: 188. \n",
            "Test - Loss: 0.6791180372238159. Accuracy: 56.578947368421055\n",
            "Train -  Loss: 0.6858099102973938. Accuracy: 56.0\n",
            "\n",
            "Iteration: 189. \n",
            "Test - Loss: 0.6790599226951599. Accuracy: 56.578947368421055\n",
            "Train -  Loss: 0.6857766509056091. Accuracy: 56.0\n",
            "\n",
            "Iteration: 190. \n",
            "Test - Loss: 0.6790033578872681. Accuracy: 56.578947368421055\n",
            "Train -  Loss: 0.6857443451881409. Accuracy: 56.5\n",
            "\n",
            "Iteration: 191. \n",
            "Test - Loss: 0.6789473295211792. Accuracy: 55.26315789473684\n",
            "Train -  Loss: 0.6857120394706726. Accuracy: 56.666666666666664\n",
            "\n",
            "Iteration: 192. \n",
            "Test - Loss: 0.6788902282714844. Accuracy: 55.26315789473684\n",
            "Train -  Loss: 0.6856799125671387. Accuracy: 56.666666666666664\n",
            "\n",
            "Iteration: 193. \n",
            "Test - Loss: 0.6788379549980164. Accuracy: 56.578947368421055\n",
            "Train -  Loss: 0.6856483817100525. Accuracy: 56.666666666666664\n",
            "\n",
            "Iteration: 194. \n",
            "Test - Loss: 0.6787816882133484. Accuracy: 56.578947368421055\n",
            "Train -  Loss: 0.6856173276901245. Accuracy: 56.666666666666664\n",
            "\n",
            "Iteration: 195. \n",
            "Test - Loss: 0.6787257194519043. Accuracy: 56.578947368421055\n",
            "Train -  Loss: 0.685585618019104. Accuracy: 56.666666666666664\n",
            "\n",
            "Iteration: 196. \n",
            "Test - Loss: 0.6786718964576721. Accuracy: 56.578947368421055\n",
            "Train -  Loss: 0.685555100440979. Accuracy: 56.666666666666664\n",
            "\n",
            "Iteration: 197. \n",
            "Test - Loss: 0.6786184906959534. Accuracy: 56.578947368421055\n",
            "Train -  Loss: 0.6855242252349854. Accuracy: 57.0\n",
            "\n",
            "Iteration: 198. \n",
            "Test - Loss: 0.6785634756088257. Accuracy: 56.578947368421055\n",
            "Train -  Loss: 0.6854938864707947. Accuracy: 56.666666666666664\n",
            "\n",
            "Iteration: 199. \n",
            "Test - Loss: 0.6785111427307129. Accuracy: 56.578947368421055\n",
            "Train -  Loss: 0.6854632496833801. Accuracy: 56.666666666666664\n",
            "\n",
            "Iteration: 200. \n",
            "Test - Loss: 0.6784574389457703. Accuracy: 56.578947368421055\n",
            "Train -  Loss: 0.6854328513145447. Accuracy: 56.666666666666664\n",
            "\n"
          ]
        },
        {
          "output_type": "stream",
          "name": "stderr",
          "text": [
            "\n"
          ]
        }
      ]
    },
    {
      "cell_type": "markdown",
      "source": [
        "##  Training and Validation accuracy and loss  -V/S-  Epochs "
      ],
      "metadata": {
        "id": "9ndXDgi5hpSD"
      }
    },
    {
      "cell_type": "code",
      "source": [
        "def plot_model_progress(train_loss_list, valid_loss_list):\n",
        "  plt.rcParams.update({'font.size': 15})\n",
        "  plt.figure(figsize=(10,5))\n",
        "  plt.plot(train_loss_list,c='g',label=\"Training Loss\",linewidth=2)\n",
        "  plt.plot(valid_loss_list,c='r',label=\"Validation Loss\",linewidth=2)\n",
        "  plt.xlabel('Epochs')\n",
        "  plt.ylabel('Loss')\n",
        "  plt.xlim(1,200)\n",
        "  plt.legend()\n",
        "  plt.show()"
      ],
      "metadata": {
        "id": "zn9SeFYqfZeR"
      },
      "execution_count": null,
      "outputs": []
    },
    {
      "cell_type": "code",
      "source": [
        "plot_model_progress(losses_train, losses_test)"
      ],
      "metadata": {
        "colab": {
          "base_uri": "https://localhost:8080/",
          "height": 344
        },
        "id": "Gx3z6xqROqwm",
        "outputId": "c68c960d-3d1d-4d9e-8d60-9f8a8c0a69c6"
      },
      "execution_count": null,
      "outputs": [
        {
          "output_type": "display_data",
          "data": {
            "image/png": "[encoded data removed]",
            "text/plain": [
              "<Figure size 720x360 with 1 Axes>"
            ]
          },
          "metadata": {
            "needs_background": "light"
          }
        }
      ]
    },
    {
      "cell_type": "code",
      "source": [
        "plot_model_progress(acc_train, acc_test)"
      ],
      "metadata": {
        "id": "qhwlBxMwRJjs",
        "colab": {
          "base_uri": "https://localhost:8080/",
          "height": 344
        },
        "outputId": "8f520157-96ea-428a-d9ee-49c65d1347fb"
      },
      "execution_count": null,
      "outputs": [
        {
          "output_type": "display_data",
          "data": {
            "image/png": "[encoded data removed]",
            "text/plain": [
              "<Figure size 720x360 with 1 Axes>"
            ]
          },
          "metadata": {
            "needs_background": "light"
          }
        }
      ]
    },
    {
      "cell_type": "markdown",
      "source": [
        "## Final Test Accuracy"
      ],
      "metadata": {
        "id": "MIDmPxELiFsn"
      }
    },
    {
      "cell_type": "code",
      "source": [
        "outputs_test = torch.squeeze(model(X_final_test))\n",
        "loss_test = criterion(outputs_test, y_final_test)\n",
        "\n",
        "predicted_test = outputs_test.round().detach().numpy()\n",
        "total_test = y_final_test.size(0)\n",
        "correct_test = np.sum(predicted_test == y_final_test.detach().numpy())\n",
        "accuracy_final = 100 * correct_test/total_test\n",
        "# losses_test.append(loss_test.item())\n",
        "# acc_test.append(accuracy_test)\n",
        "print(accuracy_final)"
      ],
      "metadata": {
        "colab": {
          "base_uri": "https://localhost:8080/"
        },
        "id": "TmyFTpRmf-8F",
        "outputId": "6afb27df-17fb-40f6-b34d-134a9f80ab7d"
      },
      "execution_count": null,
      "outputs": [
        {
          "output_type": "stream",
          "name": "stdout",
          "text": [
            "63.1578947368421\n"
          ]
        }
      ]
    },
    {
      "cell_type": "markdown",
      "source": [
        "## Saving the progress"
      ],
      "metadata": {
        "id": "0ge-tUY-S41L"
      }
    },
    {
      "cell_type": "code",
      "source": [
        "path_to_checkpoint = '/content/drive/MyDrive/WiDS_IPL'\n",
        "\n",
        "import os\n",
        "\n",
        "def save_checkpoint_logistic(e):\n",
        "  if not os.path.isdir(path_to_checkpoint):\n",
        "    os.mkdir(path_to_checkpoint)\n",
        "  torch.save({'e':e,'model': model.state_dict(), 'optim': optimizer.state_dict()}, os.path.join(path_to_checkpoint, 'checkpoint_logistic_pytorch.pth'))\n",
        "\n",
        "def save_progress_list_logistic(e):\n",
        "  if not os.path.isdir(path_to_checkpoint):\n",
        "    os.mkdir(path_to_checkpoint)\n",
        "  torch.save({'e':e,'train_loss': losses_train, 'valid_loss': losses_test, 'train_acc': acc_train, 'valid_acc': acc_test }, \n",
        "             os.path.join(path_to_checkpoint, 'progress_logistic_pytorch.pth'))\n",
        "  \n",
        "def load_checkpoint(model1, optimizer1):\n",
        "  if not os.path.isfile(os.path.join(path_to_checkpoint, 'checkpoint_logistic_pytorch.pth')):\n",
        "    return -1\n",
        "  dic = torch.load(os.path.join(path_to_checkpoint, 'checkpoint_logistic_pytorch.pth'))\n",
        "  model1.load_state_dict(dic['model'])\n",
        "  optimizer1.load_state_dict(dic['optim'])\n",
        "  return dic['e']\n",
        "\n",
        "def load_progress_list():\n",
        "  if not os.path.isfile(os.path.join(path_to_checkpoint, 'progress_logistic_pytorch.pth')):\n",
        "    return -1\n",
        "  dic = torch.load(os.path.join(path_to_checkpoint, 'progress_logistic_pytorch.pth'))\n",
        "  return dic['e'], dic['train_loss'], dic['valid_loss'], dic['train_acc'], dic['valid_acc']"
      ],
      "metadata": {
        "id": "Vf4z74P9l2jc"
      },
      "execution_count": null,
      "outputs": []
    },
    {
      "cell_type": "code",
      "source": [
        "save_checkpoint_logistic(e=200)\n",
        "save_progress_list_logistic(e=200)"
      ],
      "metadata": {
        "id": "B86xsaWkTzM5"
      },
      "execution_count": null,
      "outputs": []
    }
  ]
}